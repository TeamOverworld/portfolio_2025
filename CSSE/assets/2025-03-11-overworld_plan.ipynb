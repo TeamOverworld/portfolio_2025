{
 "cells": [
  {
   "cell_type": "markdown",
   "metadata": {},
   "source": [
    "---\n",
    "layout: post\n",
    "categories: [CSP Sprint Objectives]\n",
    "title: Overworld Level Plan  \n",
    "description:  Software Ideation, Design, and Development for Overworld Level\n",
    "type: issues \n",
    "courses: { csse: {week: 0} }\n",
    "comments: true\n",
    "permalink: /csse/overworld/plan\n",
    "---"
   ]
  }
 ],
 "metadata": {
  "language_info": {
   "name": "python"
  }
 },
 "nbformat": 4,
 "nbformat_minor": 2
}
