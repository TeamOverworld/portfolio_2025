{
 "cells": [
  {
   "cell_type": "markdown",
   "metadata": {},
   "source": [
    "---\n",
    "layout: post\n",
    "categories: [CSP Sprint Objectives]\n",
    "title: Overworld Level Plan  \n",
    "description:  Software Ideation, Design, and Development for Overworld Level\n",
    "type: issues \n",
    "courses: { csse: {week: 0} }\n",
    "comments: true\n",
    "permalink: /overworld/plan\n",
    "---"
   ]
  },
  {
   "cell_type": "markdown",
   "metadata": {},
   "source": [
    "<img width=\"650\" alt=\"Image\" src=\"https://github.com/user-attachments/assets/bd5ec2d0-3258-46a1-83c7-5fd850a6c94d\" />"
   ]
  },
  {
   "cell_type": "markdown",
   "metadata": {},
   "source": [
    "## Start\n",
    "\n",
    "The player will start the game in the overworld. In the start of the game, the player will swtich through the *rules of the over world* and learn about the story of the game. Then transition to the player select game where the player will select either steve or alex to play. In the overworld the player will have to navigate through the unperidicable terrain of the overworld. While also avoiding the creepers that will attack the player.\n",
    "\n",
    "#### Point System\n",
    "\n",
    "The points will work where the player will complete tasks/quests for the NPC's. The NPC's will generate a random quiz that the player will have to complete as the task. The tasks are completed by the player and will recive rewards depending on how well the player does. The higher the score, the higher the reward is. The points will be emeralds that the player will eventually use to buy the and recieve a flint and steel (key) from a village NPC. This is the object that will let the player light the nether portal and move onto the next level. \n",
    "\n",
    "#### Nether Portal:\n",
    "![Image](https://github.com/user-attachments/assets/11f31c91-bc63-4c6f-b5f5-56463b316eaf)\n",
    "\n"
   ]
  }
 ],
 "metadata": {
  "language_info": {
   "name": "python"
  }
 },
 "nbformat": 4,
 "nbformat_minor": 2
}
