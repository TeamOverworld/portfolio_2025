{
 "cells": [
  {
   "cell_type": "markdown",
   "metadata": {},
   "source": [
    "---\n",
    "layout: post\n",
    "categories: [CSP Sprint Objectives]\n",
    "title: Guide to Understanding the Game Loop\n",
    "description:  This guide will help you understand how the game runs, levels are managed, and  you can interact with the game loop. Instead of creating your own loop, you will learn to work within the existing system to modify and add levels.\n",
    "type: issues \n",
    "courses: { csse: {week: 0} }\n",
    "comments: true\n",
    "permalink: /overworld/guide\n",
    "---"
   ]
  },
  {
   "cell_type": "markdown",
   "metadata": {},
   "source": [
    "# Understanding the Game Loop in Our Game\n",
    "## Overview\n",
    "This guide will help you understand how the game runs, how levels are managed, and how you can interact with the game loop. Instead of creating your own loop, you will learn to work within the existing system to modify and add levels."
   ]
  },
  {
   "cell_type": "markdown",
   "metadata": {},
   "source": [
    "## How the Game is Structured\n",
    "### Main Components\n",
    "1. Game.js - The main entry point that initializes the game and user data.\n",
    "\n",
    "2. GameControl.js - Manages levels and the game loop.\n",
    "\n",
    "3. GameLevelWater.js & GameLevelDesert.js - Example game levels.\n",
    "\n",
    "### Flow of Execution\n",
    "1. The Game.main() function is called with environment settings.\n",
    "\n",
    "2. It initializes the user and fetches data.\n",
    "\n",
    "3. The game levels are set up and passed to GameControl.\n",
    "\n",
    "4. GameControl.start() begins the game loop.\n",
    "\n",
    "5. The game loop updates the current level and checks for transitions."
   ]
  },
  {
   "cell_type": "markdown",
   "metadata": {},
   "source": [
    "## The Game Loop\n",
    "### Where is it?\n",
    "\n",
    "The game loop is managed inside GameControl.js in the gameLoop() method:\n"
   ]
  },
  {
   "cell_type": "code",
   "execution_count": null,
   "metadata": {
    "vscode": {
     "languageId": "plaintext"
    }
   },
   "outputs": [],
   "source": [
    "gameLoop() {\n",
    "        if (!this.currentLevel.continue) {\n",
    "            this.handleLevelEnd();\n",
    "            return;\n",
    "        }\n",
    "        if (this.isPaused) {\n",
    "            return;\n",
    "        }\n",
    "        this.currentLevel.update();\n",
    "        this.handleInLevelLogic();\n",
    "        requestAnimationFrame(this.gameLoop.bind(this));\n",
    "    }"
   ]
  },
  {
   "cell_type": "markdown",
   "metadata": {},
   "source": [
    "### What does it do?\n",
    "1. Checks if the level should continue. If not, it handles the level end.\n",
    "2. Checks if the game is paused. If so, it stops execution.\n",
    "3. Updates the current level.\n",
    "4. Handles any additional game logic.\n",
    "5. Requests the next animation frame to repeat the process."
   ]
  },
  {
   "cell_type": "markdown",
   "metadata": {},
   "source": [
    "## How to Add a New Level\n",
    "To add a new level, follow these steps:\n",
    "\n",
    "1. Create a new level file (e.g., GameLevelForest.js).\n",
    "- Extend the GameLevel class.\n",
    "- Implement the create() and update() methods.\n",
    "\n",
    "2. Import the level in Game.js."
   ]
  },
  {
   "cell_type": "code",
   "execution_count": null,
   "metadata": {
    "vscode": {
     "languageId": "plaintext"
    }
   },
   "outputs": [],
   "source": [
    "import GameLevelForest from \"./GameLevelForest.js\";"
   ]
  },
  {
   "cell_type": "markdown",
   "metadata": {},
   "source": [
    "3. Add the level to the game’s level array."
   ]
  },
  {
   "cell_type": "code",
   "execution_count": null,
   "metadata": {
    "vscode": {
     "languageId": "plaintext"
    }
   },
   "outputs": [],
   "source": [
    "const gameLevelClasses = [GameLevelDesert, GameLevelWater, GameLevelForest];"
   ]
  },
  {
   "cell_type": "markdown",
   "metadata": {},
   "source": [
    "4. Modify transitionToLevel() if necessary in GameControl.js to support the new level.\n",
    "\n",
    "\n",
    "Now, your new level will be included when the game starts!"
   ]
  },
  {
   "cell_type": "markdown",
   "metadata": {},
   "source": [
    "## Key Takeaways\n",
    "- The game loop continuously updates the game state.\n",
    "\n",
    "- Levels are transitioned automatically through GameControl.\n",
    "\n",
    "- You can modify or add levels without changing the core loop.\n",
    "\n",
    "- Understanding how the loop interacts with levels helps you debug and expand the game."
   ]
  }
 ],
 "metadata": {
  "language_info": {
   "name": "python"
  }
 },
 "nbformat": 4,
 "nbformat_minor": 2
}
