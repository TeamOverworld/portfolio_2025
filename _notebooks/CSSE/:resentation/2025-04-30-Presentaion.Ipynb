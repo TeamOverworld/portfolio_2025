{
 "cells": [
  {
   "cell_type": "markdown",
   "metadata": {},
   "source": [
    "---\n",
    "layout: post\n",
    "title: Overworld Presentation\n",
    "description: Our Projects as a summary\n",
    "type: issues \n",
    "courses: { csse: {week: 7} }\n",
    "comments: true\n",
    "permalink: /Overworld/Presentation\n",
    "---"
   ]
  }
 ],
 "metadata": {
  "language_info": {
   "name": "python"
  }
 },
 "nbformat": 4,
 "nbformat_minor": 2
}
