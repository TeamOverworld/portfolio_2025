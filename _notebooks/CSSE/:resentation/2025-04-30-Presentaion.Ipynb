{
 "cells": [
  {
   "cell_type": "markdown",
   "metadata": {},
   "source": [
    "---\n",
    "layout: post\n",
    "title: Working Game Enemies\n",
    "description: Our Projects as a summary\n",
    "type: issues \n",
    "courses: { csse: {week: 7} }\n",
    "comments: true\n",
    "permalink: /Overworld/Presentation\n",
    "---"
   ]
  },
  {
   "cell_type": "markdown",
   "metadata": {},
   "source": [
    "## Working Game Enemies\n",
    "<hr>"
   ]
  },
  {
   "cell_type": "markdown",
   "metadata": {},
   "source": [
    "### Creating a moving Enemy\n",
    "\n",
    "<li> Defining Speed and starting position - We created an `updateposition` function that moves the object by adding speed multiplied by direction to `INIT_POSITION`\n",
    "<li> Adding Boundry checks for the enemy - Making sure that the enemy can't go anywhere it shouldn't be"
   ]
  }
 ],
 "metadata": {
  "language_info": {
   "name": "python"
  }
 },
 "nbformat": 4,
 "nbformat_minor": 2
}
