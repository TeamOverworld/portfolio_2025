{
 "cells": [
  {
   "cell_type": "code",
   "execution_count": null,
   "metadata": {
    "vscode": {
     "languageId": "yaml"
    }
   },
   "outputs": [],
   "source": [
    "---\n",
    "layout: post\n",
    "categories: [Overworld Lessons]\n",
    "title: Overworld Level Hacks - Enemy Animations\n",
    "description: Overworld Hacks - Enemy Animations\n",
    "type: issues \n",
    "comments: true\n",
    "permalink: /overworld/EnemyAnimationHacks\n",
    "---"
   ]
  },
  {
   "cell_type": "markdown",
   "metadata": {},
   "source": [
    "## Enemy Animation Hacks.\n",
    "\n",
    "### Hack #1 - Glitch Mode (Flickers and changes direction randomly)\n",
    "\n",
    "#### What should happen? \n",
    "\n",
    "- Randomly Changes enemy direction\n",
    "- Enemy may flicker (move fast) around the screen\n",
    "\n",
    "#### This hack should be placed into `Enemy.js`, Inside the `update()` method, after `this.updateMovement()`"
   ]
  },
  {
   "cell_type": "code",
   "execution_count": null,
   "metadata": {
    "vscode": {
     "languageId": "javascript"
    }
   },
   "outputs": [
    {
     "data": {
      "application/javascript": "\nif (Math.random() < 0.03) {  // 3% chance per frame\n    let originalSpeed = this.speed;\n    this.speed *= 5; // Boost speed\n    setTimeout(() => {\n        this.speed = originalSpeed;\n    }, 1000); // Revert after 1 second\n}\n",
      "text/plain": [
       "<IPython.core.display.Javascript object>"
      ]
     },
     "metadata": {},
     "output_type": "display_data"
    }
   ],
   "source": [
    "%%js \n",
    "\n",
    "\n",
    "if (Math.random() < 0.03) {  // 3% chance per frame\n",
    "    let originalSpeed = this.speed;\n",
    "    this.speed *= 5; // Boost speed\n",
    "    setTimeout(() => {\n",
    "        this.speed = originalSpeed;\n",
    "    }, 1000); // Revert after 1 second\n",
    "}"
   ]
  },
  {
   "cell_type": "markdown",
   "metadata": {},
   "source": [
    "### Hack #2 - "
   ]
  },
  {
   "cell_type": "code",
   "execution_count": null,
   "metadata": {
    "vscode": {
     "languageId": "javascript"
    }
   },
   "outputs": [],
   "source": [
    "%%js \n",
    "\n",
    "// this space is for paul so dont edit ts unless u wanna pmo to paul he is a super skibidi cool kid -nico"
   ]
  }
 ],
 "metadata": {
  "kernelspec": {
   "display_name": "venv",
   "language": "python",
   "name": "python3"
  },
  "language_info": {
   "codemirror_mode": {
    "name": "ipython",
    "version": 3
   },
   "file_extension": ".py",
   "mimetype": "text/x-python",
   "name": "python",
   "nbconvert_exporter": "python",
   "pygments_lexer": "ipython3",
   "version": "3.13.1"
  }
 },
 "nbformat": 4,
 "nbformat_minor": 2
}
