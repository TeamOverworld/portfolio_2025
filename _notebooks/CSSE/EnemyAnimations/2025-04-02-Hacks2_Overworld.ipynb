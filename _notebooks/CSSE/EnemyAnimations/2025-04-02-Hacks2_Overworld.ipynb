{
 "cells": [
  {
   "cell_type": "markdown",
   "metadata": {},
   "source": [
    "---\n",
    "layout: post\n",
    "categories: [Overworld Lessons]\n",
    "title: Overworld Level Hacks - Enemy Animations\n",
    "description: Overworld Hacks - Enemy Animations\n",
    "type: issues \n",
    "comments: true\n",
    "permalink: /overworld/EnemyAnimationHacks\n",
    "---"
   ]
  },
  {
   "cell_type": "markdown",
   "metadata": {},
   "source": [
    "## Enemy Animation Hacks."
   ]
  },
  {
   "cell_type": "markdown",
   "metadata": {},
   "source": [
    "### Hack #1 - Glitch Mode (Flickers and changes direction randomly)\n",
    "\n",
    "#### What should happen? \n",
    "#### <li> Randomly Changes enemy direction <li> Enemy may flicker (move fast) around the screen\n",
    "\n",
    "#### This hack should be placed into `Enemy.js`, Inside the `update()` method, after `this.updateMovement()`\n"
   ]
  },
  {
   "cell_type": "code",
   "execution_count": 1,
   "metadata": {
    "vscode": {
     "languageId": "javascript"
    }
   },
   "outputs": [
    {
     "data": {
      "application/javascript": "\nif (Math.random() < 0.03) {  // 3% chance per frame\n    let originalSpeed = this.speed;\n    this.speed *= 5; // Boost speed\n    setTimeout(() => {\n        this.speed = originalSpeed;\n    }, 1000); // Revert after 1 second\n}\n",
      "text/plain": [
       "<IPython.core.display.Javascript object>"
      ]
     },
     "metadata": {},
     "output_type": "display_data"
    }
   ],
   "source": [
    "%%js \n",
    "\n",
    "if (Math.random() < 0.03) {  // 3% chance per frame\n",
    "    let originalSpeed = this.speed;\n",
    "    this.speed *= 5; // Boost speed\n",
    "    setTimeout(() => {\n",
    "        this.speed = originalSpeed;\n",
    "    }, 1000); // Revert after 1 second\n",
    "}"
   ]
  },
  {
   "cell_type": "markdown",
   "metadata": {},
   "source": [
    "### Hack #2 - Ghost Mode (Fades out and reappears in a random location)\n",
    "\n",
    "#### <li> The enemy fades out and teleports to a new position.\n",
    "\n",
    "#### Where to put it - `Enemy.js`, Inside the `update()` method, after `this.updateMovement()`"
   ]
  },
  {
   "cell_type": "code",
   "execution_count": null,
   "metadata": {
    "vscode": {
     "languageId": "javascript"
    }
   },
   "outputs": [],
   "source": [
    "%%js \n",
    "\n",
    "if (Math.random() < 0.05) {  // 5% chance per frame\n",
    "    this.canvas.style.transition = \"opacity 1s\";\n",
    "    this.canvas.style.opacity = \"0\";\n",
    "    setTimeout(() => {\n",
    "        this.x = Math.random() * GameEnv.innerWidth; // Teleport\n",
    "        this.canvas.style.opacity = \"1\";\n",
    "    }, 1000);\n",
    "}"
   ]
  },
  {
   "cell_type": "markdown",
   "metadata": {},
   "source": [
    "## Animations Homework:\n",
    "\n"
   ]
  }
 ],
 "metadata": {
  "kernelspec": {
   "display_name": "venv",
   "language": "python",
   "name": "python3"
  },
  "language_info": {
   "codemirror_mode": {
    "name": "ipython",
    "version": 3
   },
   "file_extension": ".py",
   "mimetype": "text/x-python",
   "name": "python",
   "nbconvert_exporter": "python",
   "pygments_lexer": "ipython3",
   "version": "3.13.1"
  }
 },
 "nbformat": 4,
 "nbformat_minor": 2
}
