{
 "cells": [
  {
   "cell_type": "markdown",
   "id": "d52d41ee",
   "metadata": {},
   "source": [
    "---\n",
    "layout: post\n",
    "categories: [Overworld Lessons]\n",
    "title: Overworld Level - Enemy Animations\n",
    "description: Overworld - Enemy Animations\n",
    "type: issues \n",
    "comments: true\n",
    "permalink: /overworld/EnemyAnimationConepts\n",
    "---"
   ]
  },
  {
   "cell_type": "markdown",
   "id": "4786e5d1",
   "metadata": {},
   "source": [
    "## Animation concpets\n",
    "Here are some examples of some animations that one could use in a game with different animations. Please note these are concept ideas with the use of different class scripts using JavaScript. These could be put into the game to create animations for the enemies for the RPG, hacks, and other games. \n",
    "\n",
    "### Bouncing Enemy\n",
    "This first example shows when a collision is detected the enemy will bounce back adding some animations to the enemy. This will show that the enemy has been hit and bounced back.  This will also be looped so that the enemy will be bounced back to have it be repeatable and so it will properly update the class `enemy.bounce`. "
   ]
  },
  {
   "cell_type": "code",
   "execution_count": null,
   "id": "74cba8b9",
   "metadata": {
    "vscode": {
     "languageId": "javascript"
    }
   },
   "outputs": [],
   "source": [
    "\n",
    "const canvas = document.getElementById('gameCanvas');\n",
    "const ctx = canvas.getContext('2d');\n",
    "\n",
    "let player = { x: 10, y: 80, w: 20, h: 20 };\n",
    "let enemy = { x: 300, y: 80, w: 20, h: 20, bounce: 0 };\n",
    "\n",
    "function drawRect(obj, color) {\n",
    "  ctx.fillStyle = color;\n",
    "  ctx.fillRect(obj.x, obj.y, obj.w, obj.h);\n",
    "}\n",
    "\n",
    "function detectCollision(a, b) {\n",
    "  return (\n",
    "    a.x < b.x + b.w &&\n",
    "    a.x + a.w > b.x &&\n",
    "    a.y < b.y + b.h &&\n",
    "    a.y + a.h > b.y\n",
    "  );\n",
    "}\n",
    "\n",
    "function update() {\n",
    "  ctx.clearRect(0, 0, canvas.width, canvas.height);\n",
    "\n",
    "  player.x += 2;\n",
    "  if (detectCollision(player, enemy)) {\n",
    "    enemy.bounce = 5;\n",
    "  }\n",
    "\n",
    "  if (enemy.bounce > 0) {\n",
    "    enemy.y -= enemy.bounce;\n",
    "    enemy.bounce -= 0.2;\n",
    "  } else {\n",
    "    enemy.y = 80; // reset position\n",
    "  }\n",
    "\n",
    "  drawRect(player, 'blue');\n",
    "  \n",
    "  requestAnimationFrame(update);\n",
    "}\n",
    "\n",
    "update();"
   ]
  },
  {
   "cell_type": "markdown",
   "id": "179c6c7e",
   "metadata": {},
   "source": [
    "### Freeze Animations\n",
    "In this next example, we can freeze the enemy when hit so that the player may have an easier time going through or so that we may add a feature to kill the enemy. Enemy will freeze in place (turns blue and stops moving) for a few seconds after interaction. With the use of the `setTimeout` function we can freeze the enemy in time. "
   ]
  },
  {
   "cell_type": "code",
   "execution_count": null,
   "id": "23bdc714",
   "metadata": {
    "vscode": {
     "languageId": "javascript"
    }
   },
   "outputs": [],
   "source": [
    "const enemy = document.getElementById('enemy');\n",
    "let pos = 0;\n",
    "let frozen = false;\n",
    "\n",
    "function moveEnemy() {\n",
    "  if (!frozen) {\n",
    "    pos += 2;\n",
    "    if (pos > 300) pos = 0;\n",
    "    enemy.style.left = pos + 'px';\n",
    "  }\n",
    "}\n",
    "\n",
    "setInterval(moveEnemy, 50);\n",
    "\n",
    "enemy.addEventListener('click', () => {\n",
    "  frozen = true;\n",
    "  enemy.classList.add('freeze');\n",
    "  setTimeout(() => {\n",
    "    frozen = false;\n",
    "    enemy.classList.remove('freeze');\n",
    "  }, 2000);\n",
    "});"
   ]
  },
  {
   "cell_type": "markdown",
   "id": "d19fe84c",
   "metadata": {},
   "source": [
    "### Fading the Enemy Out\n",
    "In this third example, we can make the enemy fade out, possibly siginifiying the death and being able to deafeat it for a short period of time. Fade out the enemy gradually when hit using `globalAlpha` in canvas.\n"
   ]
  },
  {
   "cell_type": "code",
   "execution_count": null,
   "id": "ec9ffb97",
   "metadata": {
    "vscode": {
     "languageId": "javascript"
    }
   },
   "outputs": [],
   "source": [
    "const canvas = document.createElement('canvas');\n",
    "canvas.width = 300;\n",
    "canvas.height = 150;\n",
    "document.body.appendChild(canvas);\n",
    "const ctx = canvas.getContext('2d');\n",
    "\n",
    "let enemy = { x: 100, y: 50, w: 50, h: 50, opacity: 1, isHit: false };\n",
    "\n",
    "function drawEnemy() {\n",
    "  ctx.globalAlpha = enemy.opacity;\n",
    "  ctx.fillStyle = 'red';\n",
    "  ctx.fillRect(enemy.x, enemy.y, enemy.w, enemy.h);\n",
    "  ctx.globalAlpha = 1; // reset for next frame\n",
    "}\n",
    "\n",
    "function animate() {\n",
    "  ctx.clearRect(0, 0, canvas.width, canvas.height);\n",
    "\n",
    "  if (enemy.isHit && enemy.opacity > 0) {\n",
    "    enemy.opacity -= 0.01;\n",
    "  }\n",
    "\n",
    "  drawEnemy();\n",
    "  requestAnimationFrame(animate);\n",
    "}\n",
    "\n",
    "canvas.addEventListener('click', (e) => {\n",
    "  const rect = canvas.getBoundingClientRect();\n",
    "  const x = e.clientX - rect.left;\n",
    "  const y = e.clientY - rect.top;\n",
    "  if (\n",
    "    x > enemy.x && x < enemy.x + enemy.w &&\n",
    "    y > enemy.y && y < enemy.y + enemy.h\n",
    "  ) {\n",
    "    enemy.isHit = true;\n",
    "  }\n",
    "});\n",
    "\n",
    "animate();"
   ]
  }
 ],
 "metadata": {
  "language_info": {
   "name": "python"
  }
 },
 "nbformat": 4,
 "nbformat_minor": 5
}
