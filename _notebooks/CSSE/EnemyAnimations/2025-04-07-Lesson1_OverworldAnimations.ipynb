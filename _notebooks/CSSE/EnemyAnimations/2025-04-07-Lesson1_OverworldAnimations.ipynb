{
 "cells": [
  {
   "cell_type": "code",
   "execution_count": null,
   "id": "6826adb9",
   "metadata": {
    "vscode": {
     "languageId": "yaml"
    }
   },
   "outputs": [],
   "source": [
    "---\n",
    "layout: post\n",
    "categories: [Overworld Lessons]\n",
    "title: Overworld Level Lesson - Enemy Animations 1\n",
    "description: Overworld Lesson 1 - Enemy Animations\n",
    "type: issues \n",
    "comments: true\n",
    "permalink: /overworld/EnemyAnimationLesson\n",
    "---"
   ]
  },
  {
   "cell_type": "markdown",
   "id": "ba3d4c56",
   "metadata": {},
   "source": [
    "## Placeholder\n",
    "\n",
    "blah blah blah blah. Blah, blah, blah blah."
   ]
  }
 ],
 "metadata": {
  "language_info": {
   "name": "python"
  }
 },
 "nbformat": 4,
 "nbformat_minor": 5
}
