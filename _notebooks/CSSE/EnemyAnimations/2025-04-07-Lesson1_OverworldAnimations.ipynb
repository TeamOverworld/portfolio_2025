{
 "cells": [
  {
   "cell_type": "code",
   "execution_count": null,
   "id": "6826adb9",
   "metadata": {
    "vscode": {
     "languageId": "yaml"
    }
   },
   "outputs": [],
   "source": [
    "---\n",
    "layout: post\n",
    "categories: [Overworld Lessons]\n",
    "title: Overworld Level Lesson - Enemy Animations 1\n",
    "description: Overworld Lesson 1 - Enemy Animations\n",
    "type: issues \n",
    "comments: true\n",
    "permalink: /overworld/EnemyAnimationLesson\n",
    "---"
   ]
  },
  {
   "cell_type": "markdown",
   "id": "ba3d4c56",
   "metadata": {},
   "source": [
    "## Animating the Enemy\n",
    "\n",
    "Giving the enemy animations is also important. Adding enemy animations creates a more enjoyable experience for the player by giving them something nice to look at."
   ]
  },
  {
   "cell_type": "markdown",
   "id": "e8abf2e4",
   "metadata": {},
   "source": [
    "## Tiled \n",
    "\n",
    "In our Overworld level, there is a creeper that is trapped and bounces around. "
   ]
  }
 ],
 "metadata": {
  "language_info": {
   "name": "python"
  }
 },
 "nbformat": 4,
 "nbformat_minor": 5
}
