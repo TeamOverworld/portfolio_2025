{
 "cells": [
  {
   "cell_type": "code",
   "execution_count": null,
   "id": "11f7968e",
   "metadata": {
    "vscode": {
     "languageId": "yaml"
    }
   },
   "outputs": [],
   "source": [
    "---\n",
    "  layout: post\n",
    "  categories: [Overworld Lessons]\n",
    "  title: Overworld Level Lesson - Tailwind 2\n",
    "  description: Overworld Lesson 2 - Tailwind\n",
    "  type: issues \n",
    "  comments: true\n",
    "  permalink: /overworld/tailwindlesson"
   ]
  },
  {
   "cell_type": "markdown",
   "id": "2fd51ca5",
   "metadata": {},
   "source": [
    "## Tailwind\n",
    "\n",
    "tailwind"
   ]
  }
 ],
 "metadata": {
  "language_info": {
   "name": "python"
  }
 },
 "nbformat": 4,
 "nbformat_minor": 5
}
