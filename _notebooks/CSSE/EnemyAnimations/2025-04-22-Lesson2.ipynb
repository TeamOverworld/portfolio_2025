{
 "cells": [
  {
   "cell_type": "markdown",
   "id": "105c5c07",
   "metadata": {},
   "source": [
    "---\n",
    "toc: False \n",
    "layout: tailwindPost\n",
    "infoGraph: tools_infograph\n",
    "questions: tools_questions\n",
    "title: Tools and Equipment\n",
    "description: Tech has reshaped our lives, from the internet to the smartphone in your pocket, or the advent of AI. This course is opening new technology possibilities by equipping you with the developer tools that are the keys to boundless technology possibilities.\n",
    "courses: {'csse': {'week': 1}, 'csp': {'week': 1}, 'csa': {'week': 1}}\n",
    "type: ccc\n",
    "categories: [DevOps]\n",
    "permalink: /Overworld/Lesson\n",
    "sticky_rank: 1\n",
    "---"
   ]
  },
  {
   "cell_type": "markdown",
   "id": "a4cafc99",
   "metadata": {},
   "source": [
    "<!-- Infographic - this depends on page.infoGraph frontmatter being set -->\n",
    "{%- include tailwind/infograph.html -%}\n",
    "\n",
    "## Why Development Tools Matter\n",
    "\n",
    "Development tools are the foundation of modern software engineering. They enable collaboration, streamline workflows, and make coding more efficient. These develpment tools will not only help you succeed in this class but also prepare you for real-world software development.\n",
    "\n",
    "<!-- Questions with localstorage - this depends on page.questions frontmatter being set -->\n",
    "{%- include tailwind/questions.html -%} "
   ]
  }
 ],
 "metadata": {
  "language_info": {
   "name": "python"
  }
 },
 "nbformat": 4,
 "nbformat_minor": 5
}
