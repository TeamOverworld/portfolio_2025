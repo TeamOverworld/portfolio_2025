{
 "cells": [
  {
   "cell_type": "markdown",
   "id": "b7e71496",
   "metadata": {},
   "source": [
    "---\n",
    "toc: False \n",
    "layout: tailwindPost\n",
    "infoGraph: tools_infograph\n",
    "questions: tools_questions\n",
    "title: Tools and Equipment\n",
    "description: Tech has reshaped our lives, from the internet to the smartphone in your pocket, or the advent of AI. This course is opening new technology possibilities by equipping you with the developer tools that are the keys to boundless technology possibilities.\n",
    "courses: {'csse': {'week': 1}, 'csp': {'week': 1}, 'csa': {'week': 1}}\n",
    "type: ccc\n",
    "categories: [DevOps]\n",
    "permalink: /Overworld/Lesson2546358987564\n",
    "sticky_rank: 1\n",
    "---"
   ]
  }
 ],
 "metadata": {
  "language_info": {
   "name": "python"
  }
 },
 "nbformat": 4,
 "nbformat_minor": 5
}
