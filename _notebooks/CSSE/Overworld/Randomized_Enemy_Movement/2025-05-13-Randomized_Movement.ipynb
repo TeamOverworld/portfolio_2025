{
 "cells": [
  {
   "cell_type": "raw",
   "id": "d7bbddcc",
   "metadata": {
    "vscode": {
     "languageId": "raw"
    }
   },
   "source": [
    "---\n",
    "layout: post\n",
    "title: Randomized Movement of Enemies\n",
    "categroies: [Overwold Lessons]\n",
    "permalink: /overworld/RandomMov\n",
    "---"
   ]
  },
  {
   "cell_type": "markdown",
   "id": "165c5652",
   "metadata": {},
   "source": [
    "# Randomized Movement of Enemies\n",
    "\n",
    "Our feature we wanted to import from the platformer game is the randomized movement of characters. When we go to the platformer game, we are introduced to Goombas, these tiny little mushroom creatures you have to stomp on or they kill you on collision. If you pay close attention to the movement of the Goombas, there is a set space where the Goombas are allowed to move, but instead of them changing direction when they reach the boundary of that set walking space, they change direction in random intervals *inside* the walking space. \n",
    "\n",
    "This allows for a more natural and less rigid/robotic movement for our enemies. Instead of being able to predict when the enemy changes direction (helpful for more complicated levels with more strategizing needed; we don't want to overwhelm our players), we can use this randomized movement to add another layer of suspense into our game (helpful when our level is fairly simple at a base level and we need a little something to spice it up)."
   ]
  },
  {
   "cell_type": "markdown",
   "id": "ab0819e0",
   "metadata": {},
   "source": [
    "\n",
    "Here are a few snippets of the code for the Goombas seen in Mr. Mortensen's original platformer game. \n",
    "\n",
    "```js\n",
    "        //Initial Position of Goomba\n",
    "        this.x = xPercentage * GameEnv.innerWidth;\n",
    "\n",
    "        //Access in which a Goomba can travel    \n",
    "        this.minPosition = minPosition * GameEnv.innerWidth;\n",
    "        this.maxPosition = this.x + xPercentage * GameEnv.innerWidth;\n",
    "\n",
    "\n",
    "        //Define Speed of Enemy\n",
    "        if ([\"easy\", \"normal\"].includes(GameEnv.difficulty)) {\n",
    "            this.speed = this.speed * Math.floor(Math.random() * 1.5 + 2);\n",
    "        } else if (GameEnv.difficulty === \"hard\") {\n",
    "            this.speed = this.speed * Math.floor(Math.random() * 3 + 3);\n",
    "        } else {\n",
    "            this.speed = this.speed * 5\n",
    "        }\n",
    "\n",
    "        // Every so often change direction\n",
    "        switch(GameEnv.difficulty) {\n",
    "            case \"normal\":\n",
    "                if (Math.random() < 0.005) this.speed = -this.speed;\n",
    "                break;\n",
    "            case \"hard\":\n",
    "                if (Math.random() < 0.01) this.speed = -this.speed;\n",
    "                break;\n",
    "            case \"impossible\":\n",
    "                if (Math.random() < 0.02) this.speed = -this.speed;\n",
    "                break;\n",
    "        }\n",
    "\n",
    "        // Move the enemy\n",
    "        this.x -= this.speed;\n",
    "        // Randomly trigger a jump (increased probability)\n",
    "        if (Math.random() < 0.1) { // Adjust the probability as needed\n",
    "            this.jump();\n",
    "        }\n",
    "```"
   ]
  }
 ],
 "metadata": {
  "language_info": {
   "name": "python"
  }
 },
 "nbformat": 4,
 "nbformat_minor": 5
}
