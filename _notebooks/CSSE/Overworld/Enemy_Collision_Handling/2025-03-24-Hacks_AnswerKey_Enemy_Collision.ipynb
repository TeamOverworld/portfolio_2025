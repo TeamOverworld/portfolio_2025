{
 "cells": [
  {
   "cell_type": "code",
   "execution_count": null,
   "metadata": {
    "vscode": {
     "languageId": "yaml"
    }
   },
   "outputs": [],
   "source": [
    "---\n",
    "layout: post\n",
    "categories: [Overworld Lessons]\n",
    "title: Overworld Level Hacks Answer Key\n",
    "description: Overworld Hacks answer key\n",
    "type: issues \n",
    "comments: true\n",
    "permalink: /overworld/EnemyCollisionHacksAnswers\n",
    "---"
   ]
  },
  {
   "cell_type": "markdown",
   "metadata": {
    "vscode": {
     "languageId": "plaintext"
    }
   },
   "source": [
    "## Enemy Collision Hacks"
   ]
  },
  {
   "cell_type": "markdown",
   "metadata": {
    "vscode": {
     "languageId": "plaintext"
    }
   },
   "source": [
    "## Hack #1 - Make Enemy Bounce back on collision\n",
    "\n",
    "#### Instead of just reversing direction, make the enemy \"bounce\" back a little when it collides with something."
   ]
  },
  {
   "cell_type": "code",
   "execution_count": null,
   "metadata": {
    "vscode": {
     "languageId": "javascript"
    }
   },
   "outputs": [],
   "source": [
    "if (this.collisionData.touchPoints.other.id === \"player\") {\n",
    "    if (this.collisionData.touchPoints.other.left && this.immune == 0) {  \n",
    "        this.speed = -this.speed;  // Reverse speed\n",
    "        this.x += 10;  // Move enemy back slightly\n",
    "    }\n",
    "}"
   ]
  },
  {
   "cell_type": "markdown",
   "metadata": {},
   "source": [
    "# Hack #2 - Make Enemy Freeze for a Few Seconds on Collision\n",
    "### When the enemy hits the player, make it stop moving for 3 seconds before continuing."
   ]
  },
  {
   "cell_type": "code",
   "execution_count": null,
   "metadata": {
    "vscode": {
     "languageId": "javascript"
    }
   },
   "outputs": [],
   "source": [
    "if (this.collisionData.touchPoints.other.id === \"player\") {\n",
    "    this.speed = 0;  // Stop movement\n",
    "\n",
    "    setTimeout(() => {\n",
    "        this.speed = 3;  // Restore original speed after delay\n",
    "    }, 3000);  // Time in milliseconds\n",
    "}\n"
   ]
  },
  {
   "cell_type": "markdown",
   "metadata": {},
   "source": [
    "# Hack #3 - Make The Enemy Change Size on Collision\n",
    "### When the player collides with the enemy from the side, make the enemy grow twice as big."
   ]
  },
  {
   "cell_type": "code",
   "execution_count": null,
   "metadata": {
    "vscode": {
     "languageId": "javascript"
    }
   },
   "outputs": [],
   "source": [
    "if (this.collisionData.touchPoints.other.id === \"player\") {\n",
    "    if (this.collisionData.touchPoints.other.left || this.collisionData.touchPoints.other.right) {\n",
    "        this.canvas.style.transform = \"scale(2)\";  // Scale enemy up\n",
    "    }\n",
    "}"
   ]
  }
 ],
 "metadata": {
  "language_info": {
   "name": "python"
  }
 },
 "nbformat": 4,
 "nbformat_minor": 2
}
