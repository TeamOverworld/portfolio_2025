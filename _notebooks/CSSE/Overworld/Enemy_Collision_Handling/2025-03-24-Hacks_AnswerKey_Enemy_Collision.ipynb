{
 "cells": [
  {
   "cell_type": "markdown",
   "metadata": {},
   "source": [
    "---\n",
    "layout: post\n",
    "categories: [Overworld Lessons]\n",
    "title: Overworld Level Hacks\n",
    "description: Overworld Hacks\n",
    "type: issues \n",
    "comments: true\n",
    "permalink: /overworld/EnemyCollisionHacks\n",
    "---"
   ]
  },
  {
   "cell_type": "markdown",
   "metadata": {
    "vscode": {
     "languageId": "plaintext"
    }
   },
   "source": [
    "## Enemy Collision Hacks\n",
    "#### Replace the `Player` and `Enemy` code with your player which will refreance your player from your code.  "
   ]
  },
  {
   "cell_type": "markdown",
   "metadata": {
    "vscode": {
     "languageId": "plaintext"
    }
   },
   "source": [
    "## Hack #1 - Make Enemy Bounce back on collision\n",
    "\n",
    "#### Instead of just reversing direction, make the enemy \"bounce\" back a little when it collides with something."
   ]
  },
  {
   "cell_type": "code",
   "execution_count": 13,
   "metadata": {
    "vscode": {
     "languageId": "javascript"
    }
   },
   "outputs": [
    {
     "data": {
      "application/javascript": "\nif (this.collisionData.touchPoints.other.id === \"player\") {\n    if (this.collisionData.touchPoints.other.left && this.immune == 0) {  \n        this.speed = -this.speed;  // Reverse speed\n        this.x += 10;  // Move enemy back slightly\n    }\n}\n",
      "text/plain": [
       "<IPython.core.display.Javascript object>"
      ]
     },
     "metadata": {},
     "output_type": "display_data"
    }
   ],
   "source": [
    "%%js\n",
    "\n",
    "if (this.collisionData.touchPoints.other.id === \"player\") {\n",
    "    if (this.collisionData.touchPoints.other.left && this.immune == 0) {  \n",
    "        this.speed = -this.speed;  // Reverse speed\n",
    "        this.x += 10;  // Move enemy back slightly\n",
    "    }\n",
    "}"
   ]
  },
  {
   "cell_type": "markdown",
   "metadata": {},
   "source": [
    "# Hack #2 - Make Player Freeze for a Few Seconds on Collision with Enemy \n",
    "### When the enemy hits the player, make it stop moving for 3 seconds before continuing."
   ]
  },
  {
   "cell_type": "code",
   "execution_count": 11,
   "metadata": {
    "vscode": {
     "languageId": "javascript"
    }
   },
   "outputs": [
    {
     "data": {
      "application/javascript": "\nif (this.collisionData.touchPoints.other.id === \"player\") {\n    this.speed = 0;  // Stop movement\n\n    setTimeout(() => {\n        this.speed = 3;  // Restore original speed after delay\n    }, 3000);  // Time in milliseconds\n}\n",
      "text/plain": [
       "<IPython.core.display.Javascript object>"
      ]
     },
     "metadata": {},
     "output_type": "display_data"
    }
   ],
   "source": [
    "%%js\n",
    "\n",
    "if (this.collisionData.touchPoints.other.id === \"player\") {\n",
    "    this.speed = 0;  // Stop movement\n",
    "\n",
    "    setTimeout(() => {\n",
    "        this.speed = 3;  // Restore original speed after delay\n",
    "    }, 3000);  // Time in milliseconds\n",
    "}\n"
   ]
  },
  {
   "cell_type": "markdown",
   "metadata": {},
   "source": [
    "# Hack #3 - Make The Enemy Change Size on Collision\n",
    "### When the player collides with the enemy from the side, make the enemy grow twice as big."
   ]
  },
  {
   "cell_type": "code",
   "execution_count": null,
   "metadata": {
    "vscode": {
     "languageId": "javascript"
    }
   },
   "outputs": [
    {
     "data": {
      "application/javascript": "\nif (this.collisionData.touchPoints.other.id === \"player\") {\n    if (this.collisionData.touchPoints.other.left || this.collisionData.touchPoints.other.right) {\n        this.canvas.style.transform = \"scale(2)\";  // Scale enemy up\n    }\n}\n",
      "text/plain": [
       "<IPython.core.display.Javascript object>"
      ]
     },
     "metadata": {},
     "output_type": "display_data"
    }
   ],
   "source": [
    "%%js\n",
    "\n",
    "if (this.collisionData.touchPoints.other.id === \"enemy\") {\n",
    "    if (this.collisionData.touchPoints.other.left || this.collisionData.touchPoints.other.right) {\n",
    "        this.canvas.style.transform = \"scale(2)\";  // Scale enemy up\n",
    "    }\n",
    "}"
   ]
  }
 ],
 "metadata": {
  "kernelspec": {
   "display_name": "venv",
   "language": "python",
   "name": "python3"
  },
  "language_info": {
   "codemirror_mode": {
    "name": "ipython",
    "version": 3
   },
   "file_extension": ".py",
   "mimetype": "text/x-python",
   "name": "python",
   "nbconvert_exporter": "python",
   "pygments_lexer": "ipython3",
   "version": "3.13.1"
  }
 },
 "nbformat": 4,
 "nbformat_minor": 2
}
