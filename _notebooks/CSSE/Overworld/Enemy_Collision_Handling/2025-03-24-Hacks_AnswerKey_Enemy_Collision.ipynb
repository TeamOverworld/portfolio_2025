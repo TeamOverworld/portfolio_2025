{
 "cells": [
  {
   "cell_type": "code",
   "execution_count": null,
   "metadata": {
    "vscode": {
     "languageId": "yaml"
    }
   },
   "outputs": [],
   "source": [
    "---\n",
    "layout: post\n",
    "categories: [Overworld Lessons]\n",
    "title: Overworld Level Hacks Answer Key\n",
    "description: Overworld Hacks answer key\n",
    "type: issues \n",
    "comments: true\n",
    "permalink: /overworld/EnemyCollisionHacksAnswers\n",
    "---"
   ]
  },
  {
   "cell_type": "markdown",
   "metadata": {
    "vscode": {
     "languageId": "plaintext"
    }
   },
   "source": [
    "## Enemy Collision Hacks"
   ]
  },
  {
   "cell_type": "markdown",
   "metadata": {
    "vscode": {
     "languageId": "plaintext"
    }
   },
   "source": [
    "## Hack #1 - Make Enemy Bounce back on collision\n",
    "\n",
    "#### Instead of just reversing direction, make the enemy \"bounce\" back a little when it collides with something."
   ]
  },
  {
   "cell_type": "code",
   "execution_count": null,
   "metadata": {
    "vscode": {
     "languageId": "javascript"
    }
   },
   "outputs": [],
   "source": [
    "if (this.collisionData.touchPoints.other.id === \"player\") {\n",
    "    if (this.collisionData.touchPoints.other.left && this.immune == 0) {  \n",
    "        this.speed = -this.speed;  // Reverse speed\n",
    "        this.x += 10;  // Move enemy back slightly\n",
    "    }\n",
    "}"
   ]
  }
 ],
 "metadata": {
  "language_info": {
   "name": "python"
  }
 },
 "nbformat": 4,
 "nbformat_minor": 2
}
