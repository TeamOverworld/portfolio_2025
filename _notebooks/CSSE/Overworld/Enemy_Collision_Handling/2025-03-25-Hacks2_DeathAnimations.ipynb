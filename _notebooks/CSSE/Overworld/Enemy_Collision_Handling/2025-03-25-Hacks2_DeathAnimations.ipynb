{
 "cells": [
  {
   "cell_type": "code",
   "execution_count": null,
   "metadata": {},
   "outputs": [],
   "source": [
    "---\n",
    "layout: post\n",
    "categories: [Overworld Lessons]\n",
    "title: Overworld Level Hacks 2\n",
    "description: Overworld Hacks 2\n",
    "type: issues \n",
    "comments: true\n",
    "permalink: /overworld/DeathAnimtationHacks\n",
    "---"
   ]
  },
  {
   "cell_type": "markdown",
   "metadata": {},
   "source": [
    "### Hack 1: Simple Death Animation\n",
    "\n",
    "Add this hack to your game. For this hack, we will find an explosion png. Then, using this png, write code for a death animation that appears after the enemy dies. You can make it enlarge itself or spin, it doesn't matter."
   ]
  },
  {
   "cell_type": "code",
   "execution_count": 1,
   "metadata": {
    "vscode": {
     "languageId": "javascript"
    }
   },
   "outputs": [
    {
     "data": {
      "application/javascript": "\nif (this.collisionData.touchPoints.other.id === \"player\") {\n    GameEnv.invincible = true;\n    GameEnv.goombaBounce = true; \n    die();   \n\n}\n\ndie(); {\n//add your code here\n}\n",
      "text/plain": [
       "<IPython.core.display.Javascript object>"
      ]
     },
     "metadata": {},
     "output_type": "display_data"
    }
   ],
   "source": [
    "%%js \n",
    "//alter some of the code to fit your game\n",
    "if (this.collisionData.touchPoints.other.id === \"player\") {\n",
    "    GameEnv.invincible = true;\n",
    "    GameEnv.goombaBounce = true; \n",
    "    this.die();\n",
    "}\n",
    "\n",
    "die(); {\n",
    "//Make your png appear whenever the player touches the goomba/enemy\n",
    "}"
   ]
  },
  {
   "cell_type": "markdown",
   "metadata": {},
   "source": [
    "### Hack 2: Harder Death Animation"
   ]
  },
  {
   "cell_type": "code",
   "execution_count": null,
   "metadata": {
    "vscode": {
     "languageId": "javascript"
    }
   },
   "outputs": [],
   "source": [
    "%%js \n",
    "\n",
    "//alter the code to fit your game\n",
    "if (this.collisionData.touchPoints.other.id === \"player\") {\n",
    "    GameEnv.invincible = true;\n",
    "    GameEnv.goombaBounce = true; \n",
    "    this.kaboom();   \n",
    "}\n",
    "\n",
    "kaboom(); {\n",
    "const shards = 8; //number of shards\n",
    "for (let i=0; i < shards; i++) {\n",
    "    const shard = document.createElement('div');\n",
    "    shard.style.position = 'absolute';\n",
    "    shard.style.width = '5px';\n",
    "    shard.style.height = '5px'; \n",
    "//continue making the animation     \n",
    "    \n",
    "\n",
    "\n",
    "    shard.animate([\n",
    "        { transform: `translate(0,0)`}, //complete the rest of the animation code\n",
    "        { transform: `translate`} //complete the rest of the animation code\n",
    "    ], {\n",
    "        duration: 1000,\n",
    "        easing: 'ease-out',\n",
    "        fill: 'forwards'\n",
    "    });\n",
    "\n",
    "    setTimeout(() => {\n",
    "        shard.remove();\n",
    "    }, 1000);\n",
    "    }\n",
    "}"
   ]
  },
  {
   "cell_type": "markdown",
   "metadata": {},
   "source": [
    "### Hack 3: After the Animation"
   ]
  },
  {
   "cell_type": "code",
   "execution_count": null,
   "metadata": {
    "vscode": {
     "languageId": "javascript"
    }
   },
   "outputs": [],
   "source": [
    "%%js \n",
    "\n",
    "update(); {\n",
    "    // Calculate the progress of the animation\n",
    "    const elapsedTime = Date.now() - this.startTime;\n",
    "    const progress = Math.min(elapsedTime / this.duration, 1);\n",
    "\n",
    "        // If the animation reaches the end, trigger explosion and set delay\n",
    "        if (progress >= 1) {\n",
    "            if (this.delayStartTime === null) {\n",
    "                this.triggerExplosion();\n",
    "                this.randomDelay = Math.random() * this.data.TRANSLATE_SIMULATION.miliseconds * 5;\n",
    "                this.delayStartTime = Date.now();\n",
    "            } else if (Date.now() - this.delayStartTime >= this.randomDelay) {\n",
    "                this.restart();\n",
    "            }\n",
    "            return; // Exit the update method to prevent further updates until restart\n",
    "        }\n",
    "}\n"
   ]
  }
 ],
 "metadata": {
  "kernelspec": {
   "display_name": "venv",
   "language": "python",
   "name": "python3"
  },
  "language_info": {
   "codemirror_mode": {
    "name": "ipython",
    "version": 3
   },
   "file_extension": ".py",
   "mimetype": "text/x-python",
   "name": "python",
   "nbconvert_exporter": "python",
   "pygments_lexer": "ipython3",
   "version": "3.13.1"
  }
 },
 "nbformat": 4,
 "nbformat_minor": 2
}
