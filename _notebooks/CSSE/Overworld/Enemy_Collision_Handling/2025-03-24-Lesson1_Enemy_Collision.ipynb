{
 "cells": [
  {
   "cell_type": "code",
   "execution_count": null,
   "metadata": {
    "vscode": {
     "languageId": "yaml"
    }
   },
   "outputs": [],
   "source": [
    "---\n",
    "layout: post\n",
    "categories: [Overworld Lessons]\n",
    "title: Overworld Level Profiles \n",
    "description:  Programmer Profiles \n",
    "type: issues \n",
    "comments: true\n",
    "permalink: /overworld/EnemyCollision1\n",
    "---"
   ]
  },
  {
   "cell_type": "markdown",
   "metadata": {},
   "source": [
    "# Enemy Collisions\n",
    "\n",
    "Our game is already filled with different types of collision reactions with NPCs. However, in order to make our game even more challenging, we can introduce the idea of having an Enemy. Having an enemy doesn't come without its consequences. In this lesson, you will learn how to create consequences when our player collides with an enemy. "
   ]
  },
  {
   "cell_type": "markdown",
   "metadata": {},
   "source": [
    "### Creating an Enemy\n",
    "In order to make our enemy, we decided to create a new class for it. We made a file titled 'Enemy.js'. Like the other aspects of our game, this allows us to store all the functions for the enemy without making a mess of our code. We extended this class from our character class. There it is:\n",
    "\n",
    "```js\n",
    "import Character from './Character.js';\n",
    "import Player from './Player.js';\n",
    "\n",
    "class Enemy extends Character {\n",
    "    constructor(data = null, gameEnv = null) {\n",
    "        super(data, gameEnv);\n",
    "        this.playerDestroyed = false; // Tracks if the player has been \"killed\"\n",
    "    }\n",
    "\n",
    "    // Overrides the update method to handle collision detection.\n",
    "    update() {\n",
    "        // Start by drawing the object\n",
    "        this.draw();\n",
    "\n",
    "        // Check if the enemy collides with the player\n",
    "        if (!this.playerDestroyed && this.collisionChecks()) {\n",
    "            this.handleCollisionEvent();\n",
    "        }\n",
    "    }\n",
    "\n",
    "    // Checks if the Enemy collides with the Player.\n",
    "    // Returns true if a collision is detected, otherwise false.\n",
    "    collisionChecks() {\n",
    "        for (const gameObj of this.gameEnv.gameObjects) {\n",
    "            if (gameObj instanceof Player) {\n",
    "                this.isCollision(gameObj);\n",
    "                if (this.collisionData.hit) {\n",
    "                    return true;\n",
    "                }\n",
    "            }\n",
    "        }\n",
    "        return false;\n",
    "    }\n",
    "\n",
    "    // Handles what happens when the player collides with the enemy.\n",
    "    handleCollisionEvent() {\n",
    "        console.log(\"Player collided with the Enemy. Player is dead.\");\n",
    "        this.playerDestroyed = true; // Mark the player as \"dead\"\n",
    "        this.gameEnv.gameControl.restartLevel(); // Restart the level\n",
    "    }\n",
    "}\n",
    "\n",
    "export default Enemy;\n",
    "```\n",
    "\n",
    "In this version, we have it so that the player dies and the game automatically resets after collision. There are no animations in this version--that's for the next lesson. \n"
   ]
  }
 ],
 "metadata": {
  "language_info": {
   "name": "python"
  }
 },
 "nbformat": 4,
 "nbformat_minor": 2
}
