{
 "cells": [
  {
   "cell_type": "markdown",
   "metadata": {},
   "source": [
    "---\n",
    "layout: post\n",
    "categories: [Overworld Lessons]\n",
    "title: Overworld Level Hacks\n",
    "description: Overworld Hacks\n",
    "type: issues \n",
    "comments: true\n",
    "permalink: /overworld/EnemyCollisionHacks\n",
    "---"
   ]
  },
  {
   "cell_type": "markdown",
   "metadata": {
    "vscode": {
     "languageId": "plaintext"
    }
   },
   "source": [
    "# Enemy Collision Hacks\n",
    "#### Replace the `Player` and `Enemy` code with your player which will refreance your player from your code. \n",
    "### (These hacks should be placed into enemy.js)"
   ]
  },
  {
   "cell_type": "markdown",
   "metadata": {
    "vscode": {
     "languageId": "plaintext"
    }
   },
   "source": [
    "## Hack #1 - Make Enemy Bounce back on collision\n",
    "\n",
    "#### Instead of just reversing direction, make the enemy \"bounce\" back a little when it collides with something."
   ]
  },
  {
   "cell_type": "code",
   "execution_count": 13,
   "metadata": {
    "vscode": {
     "languageId": "javascript"
    }
   },
   "outputs": [
    {
     "data": {
      "application/javascript": "\nif (this.collisionData.touchPoints.other.id === \"player\") {\n    if (this.collisionData.touchPoints.other.left && this.immune == 0) {  \n        this.speed = -this.speed;  // Reverse speed\n        this.x += 10;  // Move enemy back slightly\n    }\n}\n",
      "text/plain": [
       "<IPython.core.display.Javascript object>"
      ]
     },
     "metadata": {},
     "output_type": "display_data"
    }
   ],
   "source": [
    "%%js\n",
    "\n",
    "if (this.collisionData.touchPoints.other.id === \"player\") {\n",
    "    if (this.collisionData.touchPoints.other.left && this.immune == 0) {  \n",
    "        this.speed = -this.speed;  // Reverse speed\n",
    "        this.x += 10;  // Move enemy back slightly\n",
    "    }\n",
    "}"
   ]
  },
  {
   "cell_type": "markdown",
   "metadata": {},
   "source": [
    "## Hack #2 - Make Player Freeze for a Few Seconds on Collision with Enemy \n",
    "### When the enemy hits the player, make it stop moving for 3 seconds before continuing."
   ]
  },
  {
   "cell_type": "code",
   "execution_count": 11,
   "metadata": {
    "vscode": {
     "languageId": "javascript"
    }
   },
   "outputs": [
    {
     "data": {
      "application/javascript": "\nif (this.collisionData.touchPoints.other.id === \"player\") {\n    this.speed = 0;  // Stop movement\n\n    setTimeout(() => {\n        this.speed = 3;  // Restore original speed after delay\n    }, 3000);  // Time in milliseconds\n}\n",
      "text/plain": [
       "<IPython.core.display.Javascript object>"
      ]
     },
     "metadata": {},
     "output_type": "display_data"
    }
   ],
   "source": [
    "%%js\n",
    "\n",
    "if (this.collisionData.touchPoints.other.id === \"player\") {\n",
    "    this.speed = 0;  // Stop movement\n",
    "\n",
    "    setTimeout(() => {\n",
    "        this.speed = 3;  // Restore original speed after delay\n",
    "    }, 3000);  // Time in milliseconds\n",
    "}\n"
   ]
  },
  {
   "cell_type": "markdown",
   "metadata": {},
   "source": [
    "## Hack #3 - Make The Enemy Change Size on Collision\n",
    "### When the player collides with the enemy from the side, make the enemy grow twice as big."
   ]
  },
  {
   "cell_type": "code",
   "execution_count": null,
   "metadata": {
    "vscode": {
     "languageId": "javascript"
    }
   },
   "outputs": [
    {
     "data": {
      "application/javascript": "\nif (this.collisionData.touchPoints.other.id === \"player\") {\n    if (this.collisionData.touchPoints.other.left || this.collisionData.touchPoints.other.right) {\n        this.canvas.style.transform = \"scale(2)\";  // Scale enemy up\n    }\n}\n",
      "text/plain": [
       "<IPython.core.display.Javascript object>"
      ]
     },
     "metadata": {},
     "output_type": "display_data"
    }
   ],
   "source": [
    "%%js\n",
    "\n",
    "if (this.collisionData.touchPoints.other.id === \"enemy\") {\n",
    "    if (this.collisionData.touchPoints.other.left || this.collisionData.touchPoints.other.right) {\n",
    "        this.canvas.style.transform = \"scale(2)\";  // Scale enemy up\n",
    "    }\n",
    "}"
   ]
  },
  {
   "cell_type": "markdown",
   "metadata": {},
   "source": [
    "# Death Animation Hacks"
   ]
  },
  {
   "cell_type": "markdown",
   "metadata": {},
   "source": [
    "### Hack 1: Simple Death Animation\n",
    "\n",
    "Add this hack to your game. For this hack, we will find an explosion png. Then, using this png, write code for a death animation that appears after the enemy dies. You can make it enlarge itself or spin, it doesn't matter."
   ]
  },
  {
   "cell_type": "code",
   "execution_count": null,
   "metadata": {
    "vscode": {
     "languageId": "javascript"
    }
   },
   "outputs": [],
   "source": [
    "//alter some of the code to fit your game\n",
    "if (this.collisionData.touchPoints.other.id === \"player\") {\n",
    "    GameEnv.invincible = true;\n",
    "    GameEnv.goombaBounce = true; \n",
    "    this.die();\n",
    "}\n",
    "\n",
    "die(); {\n",
    "    const sprite_src_kaboom = path + \"/images/gamify/laser_bolt.png\"; //you can just put some random image here\n",
    "    const sprite_data_kaboom = {\n",
    "        //make some sprite data and add code to make it more like an animation.\n",
    "    }\n",
    "\n",
    "}"
   ]
  },
  {
   "cell_type": "markdown",
   "metadata": {},
   "source": [
    "### Hack 2: Harder Death Animation\n",
    "\n",
    "For this hack, you will need to actually make an animation. Complete the code by making the shards. This code is taken from `EnemyGoomba.js`, so if you need to, take a look."
   ]
  },
  {
   "cell_type": "code",
   "execution_count": null,
   "metadata": {
    "vscode": {
     "languageId": "javascript"
    }
   },
   "outputs": [],
   "source": [
    "//alter the code to fit your game\n",
    "if (this.collisionData.touchPoints.other.id === \"player\") {\n",
    "    GameEnv.invincible = true;\n",
    "    GameEnv.goombaBounce = true; \n",
    "    this.kaboom();   \n",
    "}\n",
    "\n",
    "kaboom(); {\n",
    "const shards = 8; //number of shards\n",
    "for (let i=0; i < shards; i++) {\n",
    "    const shard = document.createElement('div');\n",
    "    shard.style.position = 'absolute';\n",
    "    shard.style.width = '5px';\n",
    "    shard.style.height = '5px'; \n",
    "//continue making the shards    \n",
    "    \n",
    "\n",
    "\n",
    "    shard.animate([\n",
    "        { transform: `translate(0,0)`}, //complete the rest of the animation code\n",
    "        { transform: `translate`} //complete the rest of the animation code\n",
    "    ], {\n",
    "        duration: 1000,\n",
    "        easing: 'ease-out',\n",
    "        fill: 'forwards'\n",
    "    });\n",
    "\n",
    "    setTimeout(() => {\n",
    "        shard.remove();\n",
    "    }, 1000);\n",
    "    }\n",
    "}"
   ]
  },
  {
   "cell_type": "markdown",
   "metadata": {},
   "source": [
    "### Hack 3: After the Animation\n",
    "\n",
    "For this hack, you will need to create a conditional that removes the animation after the animation has ended. The code needed to track the time after the animation has been provided to you. Now complete the job. If you need help, go see `ProjectileExplosion.js`."
   ]
  },
  {
   "cell_type": "code",
   "execution_count": null,
   "metadata": {
    "vscode": {
     "languageId": "javascript"
    }
   },
   "outputs": [],
   "source": [
    "update(); {\n",
    "    // Calculate the progress of the animation\n",
    "    const elapsedTime = Date.now() - this.startTime;\n",
    "    const progress = Math.min(elapsedTime / this.duration, 1);\n",
    "\n",
    "        // put code here\n",
    "}\n"
   ]
  }
 ],
 "metadata": {
  "kernelspec": {
   "display_name": "venv",
   "language": "python",
   "name": "python3"
  },
  "language_info": {
   "codemirror_mode": {
    "name": "ipython",
    "version": 3
   },
   "file_extension": ".py",
   "mimetype": "text/x-python",
   "name": "python",
   "nbconvert_exporter": "python",
   "pygments_lexer": "ipython3",
   "version": "3.13.1"
  }
 },
 "nbformat": 4,
 "nbformat_minor": 2
}
