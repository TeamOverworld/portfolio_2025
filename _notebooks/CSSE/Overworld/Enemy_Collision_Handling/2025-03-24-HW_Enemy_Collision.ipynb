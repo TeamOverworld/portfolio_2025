{
 "cells": [
  {
   "cell_type": "code",
   "execution_count": null,
   "metadata": {
    "vscode": {
     "languageId": "yaml"
    }
   },
   "outputs": [],
   "source": [
    "---\n",
    "layout: post\n",
    "categories: [Overworld Lessons]\n",
    "title: Overworld Level Profiles \n",
    "description:  Programmer Profiles \n",
    "type: issues \n",
    "comments: true\n",
    "permalink: /overworld/EnemyCollisionHW\n",
    "---"
   ]
  },
  {
   "cell_type": "markdown",
   "metadata": {},
   "source": [
    "## Enemy Collision and Death Animation HW:\n",
    "\n",
    "--------------------------\n",
    "\n",
    "### Part 1: Enemy Collision:\n",
    "Look through the lessons again, and build enemy collision of your idea on your own game\n",
    "Some ideas we can give you is: \n",
    "- Having a damage when it gets hit\n",
    "- Having a message pop up when it hits \n",
    "- Other Ideas of your own..\n",
    "\n",
    "\n",
    "-------------------------------------\n",
    "\n",
    "\n",
    "### Part 2: Death Animation:\n",
    "Same as part one, just create a death animation in your own game. \n",
    "Simple ideas you can use is: \n",
    "- enemy slowly disappearing into nothing.\n",
    "- having a quick white flash before disappearing (used in retro games).\n",
    "- Having an explosion, enemy bursting into particles or flames.\n",
    "- Creative ideas of your own..\n",
    "\n",
    "---------\n",
    "\n",
    "Grading:\n",
    "1. The game should work \n",
    "2. The coding should be at least similar to what we showed you through lessons"
   ]
  }
 ],
 "metadata": {
  "language_info": {
   "name": "python"
  }
 },
 "nbformat": 4,
 "nbformat_minor": 2
}
