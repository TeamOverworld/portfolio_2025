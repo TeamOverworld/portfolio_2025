{
 "cells": [
  {
   "cell_type": "code",
   "execution_count": null,
   "metadata": {
    "vscode": {
     "languageId": "yaml"
    }
   },
   "outputs": [],
   "source": [
    "---\n",
    "layout: post\n",
    "categories: [Overworld Lessons]\n",
    "title: Overworld Level Profiles \n",
    "description:  Programmer Profiles \n",
    "type: issues \n",
    "comments: true\n",
    "permalink: /overworld/EnemyAnimations\n",
    "---"
   ]
  },
  {
   "cell_type": "markdown",
   "metadata": {},
   "source": [
    "# Death Animations\n",
    "\n",
    "Death animations are important in the game especially with the addition of enemies that the player has to avoid. It will siginify when the player had not completed the goal of avoiding the enemy. In our example, we have a creeper moving that the player has to avoid inorder to get to places in the game. Adding death animations creates and imersive experience for the player and gives a challenge to make the game more engaging. \n",
    "\n",
    "We do this by first telling the game by checking if the player collides with the sprite. We do this with nested conditionals in order to execute different parts in the code. In this demo, we did this by changing the enemy sprite to signify their death. So that the enemy changes to siginify the death. We use a conditional with and `if` the player collides with the creepers hitbox then the sprite will change to the explosion animation. It does this with a `checkCondition` function to see with the player collides with the enemy. \n",
    "\n",
    "#### First, what you have to do is define the enemy with a normal animation such as movement animations. \n",
    "\n",
    "```js\n",
    "// Laser data, temporary sprite for testing\n",
    "    const sprite_src_boom = path + \"/images/gamify/explostion.png\"; // be sure to include the path\n",
    "    const sprite_data_boom = {\n",
    "        id: 'Exploding_Creeper',\n",
    "        greeting: \"BOOM!\",\n",
    "        // define image/sprite data\n",
    "        src: sprite_src_boom,\n",
    "        pixels: {height: 500, width: 500}, // height and width of the image\n",
    "        orientation: {rows: 1, columns: 1 }, // normalized rows and columns in the sprite\n",
    "        // define size, position, adjustments for hitbox\n",
    "        SCALE_FACTOR: 30,  // Start small\n",
    "        INIT_POSITION_RATIO: { x: 1 / 1.78, y: 1 / 3.3 }, // Ratios for initial position\n",
    "        hitbox: { widthPercentage: 0.1, heightPercentage: 0.2 },\n",
    "        // define animation properties\n",
    "        TRANSLATE_SCALE_FACTOR: 10, // Grow to this size at end translation\n",
    "        TRANSLATE_POSITION_RATIO: { x: 1 / 2.78, y: 1 / 2.9 }, // Ratios for translate position\n",
    "        TRANSLATE_SIMULATION: {miliseconds: 500 }, // 1 second\n",
    "        down: {row: 0, start: 0, columns: 3, spin: 4},  // down is default\n",
    "     };\n",
    "```\n",
    "#### In order to add animation to the death of the character we use `TRANSLATE_SCALE_FACTOR` to add animation to what was a still image. We then alert the player that the challenge of the game has not been completed and use this function to tell them how they died. \n",
    "\n",
    "```js\n",
    "reaction: function() {\n",
    "          alert(\"Creepa\");\n",
    "        }\n",
    "```\n",
    "#### Next we load the animations and the change in the sprite will be activated. \n",
    "\n",
    "```js\n",
    "  interact: function() {\n",
    "        let primaryGame = gameEnv.gameControl;\n",
    "        let levelArray = [GameLevelMCPlat];\n",
    "        let gameInGame = new GameControl(gameEnv.game, levelArray);\n",
    "        primaryGame.pause();\n",
    "        gameInGame.start();\n",
    "        gameInGame.gameOver = function() {\n",
    "          primaryGame.resume();\n",
    "        }\n",
    "      }\n",
    "```\n",
    "#### You can also make the explotions with animations with translations functions with adding animations to the enemy. \n",
    "\n",
    "```js\n",
    "function checkCollision(player, enemy) {\n",
    "    if (\n",
    "        player.x < enemy.x + enemy.width &&\n",
    "        player.x + player.width > enemy.x &&\n",
    "        player.y < enemy.y + enemy.height &&\n",
    "        player.y + player.height > enemy.y\n",
    "    ) {\n",
    "        enemy.die(); // Change animation to death\n",
    "    }\n",
    "}\n",
    "```\n"
   ]
  },
  {
   "cell_type": "markdown",
   "metadata": {},
   "source": []
  }
 ],
 "metadata": {
  "language_info": {
   "name": "python"
  }
 },
 "nbformat": 4,
 "nbformat_minor": 2
}
