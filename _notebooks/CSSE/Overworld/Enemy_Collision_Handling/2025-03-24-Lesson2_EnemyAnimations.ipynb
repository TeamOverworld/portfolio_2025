{
 "cells": [
  {
   "cell_type": "code",
   "execution_count": null,
   "metadata": {
    "vscode": {
     "languageId": "yaml"
    }
   },
   "outputs": [],
   "source": [
    "---\n",
    "layout: post\n",
    "categories: [Overworld Lessons]\n",
    "title: Overworld Level Profiles \n",
    "description:  Programmer Profiles \n",
    "type: issues \n",
    "comments: true\n",
    "permalink: /overworld/EnemyAnimations\n",
    "---"
   ]
  },
  {
   "cell_type": "markdown",
   "metadata": {},
   "source": [
    "# Death Animations\n",
    "\n",
    "Death animations are important in the game especially with the addition of enemies that the player has to avoid. It will siginify when the player had not completed the goal of avoiding the enemy. In our example, we have a creeper moving that the player has to avoid inorder to get to places in the game. \n",
    "\n",
    "We do this by first telling the game by checking if the player collides with the sprite. We do this with nested conditionals in order to execute different parts in the code. In this demo, we did this by changing the enemy sprite to signify their death. So that the enemy changes to siginify the death. We use a conditional with and `if` the player collides with the creepers hitbox then the sprite will change to the explosion animation. It does this with a `checkCondition` function to see with the player collides with the enemy. \n",
    "\n",
    "\n",
    "\n",
    "```js\n",
    "// Laser data, temporary sprite for testing\n",
    "    const sprite_src_laser = path + \"/images/gamify/laser_bolt.png\"; // be sure to include the path\n",
    "    const sprite_data_laser1 = {\n",
    "        id: 'AT-AT-Laser-1',\n",
    "        greeting: \"Simulate explosive action!\",\n",
    "        // define image/sprite data\n",
    "        src: sprite_src_laser,\n",
    "        pixels: {height: 500, width: 500}, // height and width of the image\n",
    "        orientation: {rows: 1, columns: 1 }, // normalized rows and columns in the sprite\n",
    "        // define size, position, adjustments for hitbox\n",
    "        SCALE_FACTOR: 30,  // Start small\n",
    "        INIT_POSITION_RATIO: { x: 1 / 1.78, y: 1 / 3.3 }, // Ratios for initial position\n",
    "        hitbox: { widthPercentage: 0.1, heightPercentage: 0.2 },\n",
    "        // define animation properties\n",
    "        TRANSLATE_SCALE_FACTOR: 10, // Grow to this size at end translation\n",
    "        TRANSLATE_POSITION_RATIO: { x: 1 / 2.78, y: 1 / 2.9 }, // Ratios for translate position\n",
    "        TRANSLATE_SIMULATION: {miliseconds: 500 }, // 1 second\n",
    "        down: {row: 0, start: 0, columns: 3, spin: 4},  // down is default\n",
    "     };\n",
    "```\n",
    "\n",
    "\n",
    "\n",
    "```js\n",
    "reaction: function() {\n",
    "          alert(\"Death by Creeper\");\n",
    "        }\n",
    "```"
   ]
  },
  {
   "cell_type": "markdown",
   "metadata": {},
   "source": []
  }
 ],
 "metadata": {
  "language_info": {
   "name": "python"
  }
 },
 "nbformat": 4,
 "nbformat_minor": 2
}
