{
 "cells": [
  {
   "cell_type": "raw",
   "id": "8de86f8e",
   "metadata": {},
   "source": [
    "---\n",
    "layout: post\n",
    "categories: [Overworld Lessons]\n",
    "title: Overworld Level Profiles \n",
    "description:  Programmer Profiles \n",
    "type: issues \n",
    "comments: true\n",
    "permalink: /overworld/EnemyAnimations2\n",
    "---"
   ]
  },
  {
   "cell_type": "markdown",
   "id": "fe910cb4",
   "metadata": {},
   "source": []
  }
 ],
 "metadata": {
  "language_info": {
   "name": "python"
  }
 },
 "nbformat": 4,
 "nbformat_minor": 5
}
