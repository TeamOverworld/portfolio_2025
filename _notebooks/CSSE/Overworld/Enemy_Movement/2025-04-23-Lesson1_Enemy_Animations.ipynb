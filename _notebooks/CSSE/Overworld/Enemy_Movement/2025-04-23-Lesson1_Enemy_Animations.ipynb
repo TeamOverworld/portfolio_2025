{
 "cells": [
  {
   "cell_type": "code",
   "execution_count": null,
   "id": "8de86f8e",
   "metadata": {
    "vscode": {
     "languageId": "yaml"
    }
   },
   "outputs": [],
   "source": [
    "---\n",
    "toc: false\n",
    "layout: tailwindPost\n",
    "infoGraph: enemyAnimation \n",
    "categories: [Overworld Lessons]\n",
    "title: Enemy Animation \n",
    "description: \"Lesson for enemy 'animation' in a game.\"\n",
    "type: ccc\n",
    "breadcrumb: true\n",
    "permalink: /overworld/EnemyAnimation1\n",
    "sticky_rank: 2\n",
    "  ---"
   ]
  },
  {
   "cell_type": "markdown",
   "id": "fe910cb4",
   "metadata": {},
   "source": [
    "<!-- Infographic - this depends on page.infoGraph frontmatter being set -->\n",
    "{%- include tailwind/infograph.html -%}"
   ]
  },
  {
   "cell_type": "markdown",
   "id": "28250944",
   "metadata": {},
   "source": [
    "## Lesson 2: Enemy Animation \n",
    "\n",
    "This lesson will be based on your ability to create creative animations as our first lesson. If you recall, we created an animation that happens to the player when it collides with the enemy Creeper! Now, instead of working on an animation for the player, the enemy is the one that will have an animation instead. \n",
    "\n",
    "#### Why it would be beneficial to add an animation like this into your game ?\n",
    "\n",
    "We want to make our games as interesting and immersive as possible, meaning adding animations and features into our game that will make it more interesting and engaging to play. By adding an animation to the enemy, it makes it seem more intimidating than a goofy creature bouncing around your screen."
   ]
  },
  {
   "cell_type": "markdown",
   "id": "d176cee8",
   "metadata": {},
   "source": [
    "### Code Explanation \n",
    "\n",
    "Now, we will go through what we did in our code in order to create the animation for our Creeper by blocks. Here is the base code with no comments ( excluding the sound, because you're going to have to figure that out on your own :D ):\n",
    "\n",
    "```js \n",
    "  const spriteElement = document.getElementById(this.id);\n",
    "        if (spriteElement) {\n",
    "          spriteElement.style.transform = this.direction.x === -1 ? \"scaleX(-1)\" : \"scaleX(1)\";\n",
    "          spriteElement.style.left = this.INIT_POSITION.x + 'px';\n",
    "          spriteElement.style.top = this.INIT_POSITION.y + 'px';\n",
    "        }\n",
    "      },\n",
    "      isAnimating: false,\n",
    "      playAnimation: function () {\n",
    "        if (this.isAnimating) return;\n",
    "        this.isAnimating = true;\n",
    "\n",
    "        const spriteElement = document.getElementById(this.id);\n",
    "        if (!spriteElement) return;\n",
    "\n",
    "        spriteElement.style.transition = 'filter 1s ease-in-out';\n",
    "        spriteElement.style.filter = 'brightness(3) saturate(0)';\n",
    "\n",
    "        setTimeout(() => {\n",
    "          spriteElement.style.filter = 'none';\n",
    "          setTimeout(() => {\n",
    "            spriteElement.style.transition = '';\n",
    "            this.isAnimating = false;\n",
    "          }, 1000);\n",
    "        }, 1000);\n",
    "      }\n",
    "    };\n",
    "\n",
    "    setInterval(() => {\n",
    "      sprite_data_creeper.updatePosition();\n",
    "    }, 100);\n",
    "\n",
    "    setInterval(() => {\n",
    "      sprite_data_creeper.playAnimation();\n",
    "    }, 5000);\n",
    "  ```"
   ]
  },
  {
   "cell_type": "markdown",
   "id": "2116cf35",
   "metadata": {},
   "source": [
    "### Code Block One \n",
    "\n",
    "```js \n",
    "const spriteElement = document.getElementById(this.id);\n",
    "        if (spriteElement) {\n",
    "          spriteElement.style.transform = this.direction.x === -1 ? \"scaleX(-1)\" : \"scaleX(1)\";\n",
    "          spriteElement.style.left = this.INIT_POSITION.x + 'px';\n",
    "          spriteElement.style.top = this.INIT_POSITION.y + 'px';\n",
    "        }\n",
    " ```\n",
    "\n",
    "``document.getElementById(this.id)``: This retrieves an HTML element using its id. The this.id should be a property of the object.\n",
    "\n",
    "``if (spriteElement)``: This checks if the spriteElement exists in the DOM ( if the element with the given ID is found ). \n",
    "\n",
    "**DOM: Document Object Model. Example:**\n",
    "```js\n",
    "<html>\n",
    "  <head>\n",
    "    <title>My Page</title>\n",
    "  </head>\n",
    "  <body>\n",
    "    <h1>Welcome to My Page</h1>\n",
    "    <p>This is a paragraph.</p>\n",
    "  </body>\n",
    "</html>\n",
    "```\n",
    "\n",
    "``spriteElement.style.transform = this.direction.x === -1 ? \"scaleX(-1)\" : \"scaleX(1)\"``: ( Explained in lesson one )\n",
    "\n",
    "``spriteElement.style.left = this.INIT_POSITION.x + 'px'`` and ``spriteElement.style.top = this.INIT_POSITION.y + 'px'``: These set the left and top properties of the sprite, putting it on the screen based on the INIT_POSITION."
   ]
  },
  {
   "cell_type": "markdown",
   "id": "0f0fe709",
   "metadata": {},
   "source": [
    "### Code Block Two \n",
    "\n",
    "```js\n",
    "isAnimating: false, // this codes stops from multiple animations playing at once. \n",
    "playAnimation: function () {\n",
    "  if (this.isAnimating) return; //if the animation is already playing, the playAnimation will not do anything and end early \n",
    "  this.isAnimating = true; // this starts the animation, it then sets it to true to show that the animation is playing \n",
    "\n",
    "  const spriteElement = document.getElementById(this.id); // retrieves HTML element again \n",
    "  if (!spriteElement) return; // if the element doesnt exist, then this makes the function exit early \n",
    "\n",
    "  spriteElement.style.transition = 'filter 1s ease-in-out'; \n",
    "  spriteElement.style.filter = 'brightness(3) saturate(0)';\n",
    "  ```\n",
    "\n",
    "``spriteElement.style.transition = 'filter 1s ease-in-out'``: This creates a smooth transition effect to the sprite, specifically a filter transition (ex: changing brightness) over a second.\n",
    "\n",
    "``spriteElement.style.filter = 'brightness(3) saturate(0)'``: This creates a filter to the sprite. since we want the creeper to be white, it would be easier to just increase the brightness on the image rather than trying to overlay it with white. brightness is set to 3 (making the sprite very bright) and the saturation is set to 0 (making the sprite grayscale).\n",
    "\n",
    "```js\n",
    "\n",
    "  setTimeout(() => {\n",
    "    spriteElement.style.filter = 'none';\n",
    "    setTimeout(() => {\n",
    "      spriteElement.style.transition = '';\n",
    "      this.isAnimating = false;\n",
    "    }, 1000);\n",
    "  }, 1000); \n",
    "}\n",
    "```\n",
    "This last piece of code for this code basically just removes all the filters with another smooth transition. at the end, this.isAnimating is set to false because the animation is no longer playing and another animation can play. this whole animation lasts a second, as represented by 1000ms."
   ]
  },
  {
   "cell_type": "markdown",
   "id": "b72c6977",
   "metadata": {},
   "source": [
    "### Code Block Three\n",
    "\n",
    "```js\n",
    "setInterval(() => {\n",
    "  sprite_data_creeper.updatePosition();\n",
    "}, 100);\n",
    "\n",
    "setInterval(() => {\n",
    "  sprite_data_creeper.playAnimation();\n",
    "}, 5000);\n",
    "```\n",
    "\n",
    "``setInterval(() => { sprite_data_creeper.updatePosition(); }, 100);``: This sets an interval to update the position of the sprite every 100 milliseconds ( 0.1 seconds ). The **updatePosition** would modify the sprite’s position on the screen so it moves. ( Briefly explained in lesson one )\n",
    "\n",
    "``setInterval(() => { sprite_data_creeper.playAnimation(); }, 5000);``: This sets an interval to start **playAnimation** every 5000 milliseconds ( 5 seconds )."
   ]
  },
  {
   "cell_type": "markdown",
   "id": "be45f773",
   "metadata": {},
   "source": [
    "## Summary \n",
    "\n",
    "**Block One**: Ensures that the animation doesn't break and overload, also includes the code for flipping the sprite when collided with a wall. \n",
    "\n",
    "**Block Two**: Creating the actual animation, starting the starting animation then the process of ending it. \n",
    "\n",
    "**Block Three**: Handles the Creeper moving around and updating its position. It also handles the time passed between each animation.\n",
    "\n",
    "\n",
    "Overall, have fun with your animations, get creative! Don't forget to add the sound if you want those extra points :) "
   ]
  }
 ],
 "metadata": {
  "language_info": {
   "name": "python"
  }
 },
 "nbformat": 4,
 "nbformat_minor": 5
}
