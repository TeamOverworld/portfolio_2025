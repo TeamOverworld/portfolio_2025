{
 "cells": [
  {
   "cell_type": "code",
   "execution_count": null,
   "id": "8de86f8e",
   "metadata": {
    "vscode": {
     "languageId": "yaml"
    }
   },
   "outputs": [],
   "source": [
    "---\n",
    "toc: false\n",
    "layout: tailwindPost\n",
    "infoGraph: enemyAnimation \n",
    "categories: [Overworld Lessons]\n",
    "title: Enemy Animation \n",
    "description: \"Lesson for enemy 'animation' in a game.\"\n",
    "type: ccc\n",
    "breadcrumb: true\n",
    "permalink: /overworld/EnemyAnimation1\n",
    "sticky_rank: 2\n",
    "  ---"
   ]
  },
  {
   "cell_type": "markdown",
   "id": "fe910cb4",
   "metadata": {},
   "source": []
  }
 ],
 "metadata": {
  "language_info": {
   "name": "python"
  }
 },
 "nbformat": 4,
 "nbformat_minor": 5
}
