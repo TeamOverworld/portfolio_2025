{
 "cells": [
  {
   "cell_type": "raw",
   "id": "ef75bdf7",
   "metadata": {
    "vscode": {
     "languageId": "xml"
    }
   },
   "source": [
    "---\n",
    "layout: post\n",
    "categories: [Overworld Lessons]\n",
    "title: Overworld Level Profiles \n",
    "description:  Programmer Profiles \n",
    "type: issues \n",
    "comments: true\n",
    "permalink: /overworld/EnemyMovement2\n",
    "---"
   ]
  },
  {
   "cell_type": "markdown",
   "id": "d98d6751",
   "metadata": {},
   "source": [
    "# Lesson 2: Enemy Movement\n",
    "\n",
    "Having enemy movement in games is a fun way to add life into your game. It allows for players to be more immersed in the game's storyline, which is important for us since we are making a game with both RPG and platformer game aspects. It also allows for the game to be more challenging for the player, saving them from a boring and repetitve experience. \n",
    "\n",
    "There are many different uses for enemy movement, such as creating an obstacle for the player to pass through, giving life to your characters, creating suspense, and more. \n",
    "\n",
    "### Making an Enemy Move in a Set Space\n",
    "\n",
    "For our level, we wanted to create a set space in which our enemy will move in. To do this, we have to first create the boundaries of the area, so we created an object that defines all the boundaries of the area we wanted our enemy to stay in, which we placed after our enemy's data.\n",
    "```js\n",
    "walkingArea: {\n",
    "          xMin: width / 10, //left boundary\n",
    "          xMax: (width * 5 / 7), //right boundary \n",
    "          yMin: height / 4, //top boundary \n",
    "          yMax: (height * 8 / 15) //bottom boundary\n",
    "        },\n",
    "```\n",
    "\n",
    "\n",
    "Next, we define both the speed and the starting direction, as well as the function that allows our enemy to move. \n",
    "```js\n",
    "// moves the object by adding speed multiplied by direction to INIT_POSITION: if moving right, x increases and if moving down, y increases\n",
    "updatePosition: function () {\n",
    "  // console.log(`Creeper position: (${this.INIT_POSITION.x}, ${this.INIT_POSITION.y})`);\n",
    "  this.INIT_POSITION.x += this.direction.x * this.speed; // Update x position based on direction and speed\n",
    "  this.INIT_POSITION.y += this.direction.y * this.speed; // Update y position based on direction and speed\n",
    "\n",
    "  //boundary checks, this makes it so the creeper bounces off walls when it's collision/hit box collides with the boundaries of the set walking area\n",
    "  if (this.INIT_POSITION.x <= this.walkingArea.xMin) { //bounces up\n",
    "    this.INIT_POSITION.x = this.walkingArea.xMin;\n",
    "    this.direction.x = 1; \n",
    "  }\n",
    "  if (this.INIT_POSITION.x >= this.walkingArea.xMax) { //bounces down\n",
    "    this.INIT_POSITION.x = this.walkingArea.xMax;\n",
    "    this.direction.x = -1; \n",
    "  }\n",
    "  if (this.INIT_POSITION.y <= this.walkingArea.yMin) { //bounces left\n",
    "    this.INIT_POSITION.y = this.walkingArea.yMin;\n",
    "    this.direction.y = 1; \n",
    "  }\n",
    "  if (this.INIT_POSITION.y >= this.walkingArea.yMax) { //bounces right\n",
    "    this.INIT_POSITION.y = this.walkingArea.yMax;\n",
    "    this.direction.y = -1; \n",
    "  }\n",
    "},\n",
    "```\n",
    "Basically, we use 'this.INIT_POSITION.x += this.direction.x * this.speed' and 'this.INIT_POSITION.y += this.direction.y * this.speed' to allow the enemy to move diagonally continuously until it reaches a boundary point, in which either the y-direction or x-direction changes.  \n",
    "\n",
    "\n",
    "Then, in order for our enemy to not be walking backwards half the time, we added this to flip the sprite image horizontally when the direction changes:\n",
    "```js\n",
    "const spriteElement = document.getElementById(this.id); \n",
    "  if (spriteElement) {\n",
    "      spriteElement.style.transform = this.direction.x === -1 ? 'scaleX(1)' : 'scaleX(-1)';\n",
    "  }\n",
    "```\n",
    "This little bit of code checks the direction. If it's -1, then it changes the scaleX from 1 to -1. This allows the sprite image to flip.\n",
    "\n",
    "\n",
    "\n",
    "Finally, we use `setInterval()` to update the position of the enemy.\n"
   ]
  }
 ],
 "metadata": {
  "language_info": {
   "name": "python"
  }
 },
 "nbformat": 4,
 "nbformat_minor": 5
}
