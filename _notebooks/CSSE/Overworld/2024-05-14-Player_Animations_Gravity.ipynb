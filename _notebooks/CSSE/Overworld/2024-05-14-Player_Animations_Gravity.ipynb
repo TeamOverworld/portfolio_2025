{
 "cells": [
  {
   "cell_type": "raw",
   "id": "40cb6ba3",
   "metadata": {
    "vscode": {
     "languageId": "raw"
    }
   },
   "source": [
    "---\n",
    "layout: post\n",
    "title: Player Animations and Gravity\n",
    "description: Lesson on player gravity, animations, and controls.\n",
    "categroies: [Overwold Lessons]\n",
    "permalink: /overworld/PlayerGravity1\n",
    "---"
   ]
  },
  {
   "cell_type": "markdown",
   "id": "e643fe0f",
   "metadata": {},
   "source": [
    "idk what to put hrererwerwrwwer Ich brauche hilfe. Shayan tiene no padres porque el es una perra. Shayan ist nicht sehr klug und wollt eltern.\n",
    "\n",
    "shayan 일도 안하고 맨날 nico랑 놀려고 하는데 사실은 nico도 shayan 싫어하는거지 ㅋㅋㅋㅋㅋㅋ\n",
    "\n",
    "নিকো এবং শায়ান সমকামী এবং বিয়ে করবে। পল এটা দেখে এবং তার অসীম ঈর্ষা হয়, কিন্তু সে কিছুই বলে না কারণ সে জানে শায়ানও তাকে ভালোবাসে।"
   ]
  }
 ],
 "metadata": {
  "language_info": {
   "name": "python"
  }
 },
 "nbformat": 4,
 "nbformat_minor": 5
}
