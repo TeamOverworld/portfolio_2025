{
 "cells": [
  {
   "cell_type": "raw",
   "id": "40cb6ba3",
   "metadata": {
    "vscode": {
     "languageId": "raw"
    }
   },
   "source": [
    "---\n",
    "layout: post\n",
    "title: Player Animations and Gravity\n",
    "description: Lesson on player gravity, animations, and controls.\n",
    "categroies: [Overwold Lessons]\n",
    "permalink: /overworld/PlayerGravity1\n",
    "---"
   ]
  },
  {
   "cell_type": "markdown",
   "id": "ee323b1b",
   "metadata": {},
   "source": [
    "# Lesson 1"
   ]
  },
  {
   "cell_type": "markdown",
   "id": "79ae1b2c",
   "metadata": {},
   "source": [
    "## Gravity\n",
    "\n",
    "Gravity is one of the forces that acts upon the universe. So let's add it to our adventure game. Adding gravity will make it more realistic and more difficult since you no longer will be able to glide across the screen.\n",
    "\n",
    "in our game lvel, we blah blah blah blah blahd and uh idk but below is code pulled from our game level def."
   ]
  },
  {
   "cell_type": "code",
   "execution_count": null,
   "id": "909a17a6",
   "metadata": {
    "vscode": {
     "languageId": "javascript"
    }
   },
   "outputs": [],
   "source": [
    "%%js \n",
    "// (This code is in Character.js)\n",
    "// This is the code in portfolio 2025 that updates the Y-Value (Height of sprite)\n",
    "updateY() {\n",
    "    if (this.bottom > this.y && this.gravityEnabled) {\n",
    "        this.y += GameEnv.gravity;\n",
    "        this.onTop = false;\n",
    "    } else {\n",
    "        this.onTop = true;\n",
    "    }\n",
    "}"
   ]
  },
  {
   "cell_type": "code",
   "execution_count": null,
   "id": "3e6b0735",
   "metadata": {
    "vscode": {
     "languageId": "javascript"
    }
   },
   "outputs": [],
   "source": [
    "%%js \n",
    "//This code is in gameEnv.js\n",
    "\n",
    "static gravity = 3;\n",
    "//gravity constant defenition"
   ]
  },
  {
   "cell_type": "code",
   "execution_count": null,
   "id": "b12782ad",
   "metadata": {
    "vscode": {
     "languageId": "javascript"
    }
   },
   "outputs": [],
   "source": [
    "%%js \n",
    "// This code is in GameObject.js\n",
    "// This code is the collision detection\n",
    "\n",
    "touchPoints: {\n",
    "    this: {\n",
    "        bottom: (thisRect.bottom <= otherRect.top) && !(Math.abs(thisRect.bottom - otherRect.bottom) <= GameEnv.gravity),\n",
    "        // ...\n",
    "    },\n",
    "    other: {\n",
    "        bottom: (thisRect.bottom >= otherRect.top) && !(Math.abs(thisRect.bottom - otherRect.bottom) <= GameEnv.gravity),\n",
    "        // ...\n",
    "    }\n",
    "}\n",
    "\n"
   ]
  },
  {
   "cell_type": "code",
   "execution_count": null,
   "id": "6d704b94",
   "metadata": {
    "vscode": {
     "languageId": "javascript"
    }
   },
   "outputs": [],
   "source": [
    "%%js \n",
    "//This code is in SetttingControl.js\n",
    "// Gravity settings\n",
    "\n",
    "get gravityInput() {\n",
    "    const div = document.createElement(\"div\");\n",
    "    div.innerHTML = \"Gravity: \";\n",
    "    \n",
    "    const gravity = document.createElement(\"input\");\n",
    "    gravity.type = \"number\";\n",
    "    gravity.min = 1.0;\n",
    "    gravity.max = 8.0;\n",
    "    gravity.step = 0.1;\n",
    "    gravity.default = 3.0;\n",
    "    gravity.value = GameEnv.gravity;\n",
    "    // ...\n",
    "}"
   ]
  }
 ],
 "metadata": {
  "language_info": {
   "name": "python"
  }
 },
 "nbformat": 4,
 "nbformat_minor": 5
}
