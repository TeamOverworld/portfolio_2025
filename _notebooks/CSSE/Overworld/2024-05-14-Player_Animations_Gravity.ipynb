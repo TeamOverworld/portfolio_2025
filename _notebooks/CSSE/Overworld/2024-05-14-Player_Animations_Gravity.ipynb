{
 "cells": [
  {
   "cell_type": "raw",
   "id": "40cb6ba3",
   "metadata": {
    "vscode": {
     "languageId": "raw"
    }
   },
   "source": [
    "---\n",
    "layout: post\n",
    "title: Player Animations and Gravity\n",
    "description: Lesson on player gravity, animations, and controls.\n",
    "categroies: [Overwold Lessons]\n",
    "permalink: /overworld/PlayerGravity1\n",
    "---"
   ]
  },
  {
   "cell_type": "markdown",
   "id": "ee323b1b",
   "metadata": {},
   "source": [
    "# Lesson 1"
   ]
  },
  {
   "cell_type": "markdown",
   "id": "79ae1b2c",
   "metadata": {},
   "source": [
    "## Gravity\n",
    "\n",
    "Gravity is one of the forces that acts upon the universe. So let's add it to our adventure game. Adding gravity will make it more realistic and more difficult since you no longer will be able to glide across the screen\n",
    "\n",
    "To add gravity to adventure game, we first have to make some chanegs to `GameEnv.js` and `Character.js`."
   ]
  },
  {
   "cell_type": "code",
   "execution_count": null,
   "id": "909a17a6",
   "metadata": {
    "vscode": {
     "languageId": "javascript"
    }
   },
   "outputs": [],
   "source": [
    "%%js \n",
    "//the value for gravity is stored in GameEnv\n",
    "//gravity is enabled by default in the constructor\n",
    "// This code is in Charcter.js\n",
    "\n",
<<<<<<< HEAD
    "updateY() {\n",
    "    if (this.bottom > this.y && this.gravityEnabled) {\n",
    "        this.y += GameEnv.gravity;\n",
    "        this.onTop = false;\n",
    "    } else {\n",
    "        this.onTop = true;\n",
    "    }\n",
    "}"
   ]
  },
  {
   "cell_type": "code",
   "execution_count": null,
   "id": "b12782ad",
   "metadata": {
    "vscode": {
     "languageId": "javascript"
    }
   },
   "outputs": [],
   "source": [
    "%%js\n",
    "\n",
    "this.collisionData = {\n",
    "    newX: thisRectLeftNew, // proportionally adjust left to center over other object\n",
    "    hit: (\n",
    "        thisLeft < otherRect.right &&\n",
    "        thisRight > otherRect.left &&\n",
    "        thisTop < otherRect.bottom &&\n",
    "        thisBottom > otherRect.top\n",
    "    ),\n",
    "    atFloor: (GameEnv.bottom <= this.y),\n",
    "    // The following code is what affects the gravity\n",
    "    touchPoints: {\n",
    "        this: {\n",
    "            id: this.canvas.id,\n",
    "            top: thisRect.bottom > otherRect.top,\n",
    "            bottom: (thisRect.bottom <= otherRect.top) && !(Math.abs(thisRect.bottom - otherRect.bottom) <= GameEnv.gravity),\n",
    "            left: thisCenterX > otherCenterX,\n",
    "            right: thisCenterX < otherCenterX,\n",
    "            onTopofOther: onTopofOther\n",
    "        },\n",
    "        other: {\n",
    "            id: other.canvas.id,\n",
    "            top: thisRect.bottom < otherRect.top,\n",
    "            bottom: (thisRect.bottom >= otherRect.top) && !(Math.abs(thisRect.bottom - otherRect.bottom) <= GameEnv.gravity),\n",
    "            left: thisCenterX < otherCenterX, \n",
    "            right: thisCenterX > otherCenterX,\n",
    "        },\n",
    "    },\n",
    "};"
   ]
  },
  {
   "cell_type": "markdown",
   "id": "723f6c35",
   "metadata": {},
   "source": [
    "<hr> "
   ]
  },
  {
   "cell_type": "markdown",
   "id": "73b543ae",
   "metadata": {},
   "source": [
    "# -- Hacks -- \n",
    "\n",
    "### 1) Make a NPC or a function that moves the player to a platformer game or another RPG level\n",
    "\n",
    "### 2) In your Platformer game add gravity to the player. \n",
    "\n"
=======
    "//vamos a la playa a mi me gusta bailar, el ritmo en la noche, sound of fiesta.\n"
>>>>>>> 2cfd7d84 (Random)
   ]
  }
 ],
 "metadata": {
  "language_info": {
   "name": "python"
  }
 },
 "nbformat": 4,
 "nbformat_minor": 5
}
