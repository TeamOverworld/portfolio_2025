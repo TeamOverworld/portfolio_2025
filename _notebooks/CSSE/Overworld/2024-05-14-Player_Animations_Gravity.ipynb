{
 "cells": [
  {
   "cell_type": "raw",
   "id": "40cb6ba3",
   "metadata": {
    "vscode": {
     "languageId": "raw"
    }
   },
   "source": [
    "---\n",
    "layout: post\n",
    "title: Player Animations and Gravity\n",
    "description: Lesson on player gravity, animations, and controls.\n",
    "categroies: [Overwold Lessons]\n",
    "permalink: /overworld/PlayerGravity1\n",
    "---"
   ]
  },
  {
   "cell_type": "markdown",
   "id": "ee323b1b",
   "metadata": {},
   "source": [
    "# Lesson 1"
   ]
  },
  {
   "cell_type": "markdown",
   "id": "79ae1b2c",
   "metadata": {},
   "source": [
    "## Gravity\n",
    "\n",
    "Gravity is one of the forces that acts upon the universe. So let's add it to our adventure game. Adding gravity will make it more realistic and more difficult since you no longer will be able to glide across the screen\n",
    "\n",
    "To add gravity to adventure game, we first have to make some chanegs to `GameEnv.js` and `Character.js`."
   ]
  },
  {
   "cell_type": "code",
   "execution_count": null,
   "id": "909a17a6",
   "metadata": {
    "vscode": {
     "languageId": "javascript"
    }
   },
   "outputs": [],
   "source": [
    "%%js \n",
    "//the value for gravity is stored in GameEnv\n",
    "//gravity is enabled by default in the constructor\n",
    "// This code is in Charcter.js\n",
    "\n",
<<<<<<< HEAD
    "updateY() {\n",
    "    if (this.bottom > this.y && this.gravityEnabled) {\n",
    "        this.y += GameEnv.gravity;\n",
    "        this.onTop = false;\n",
    "    } else {\n",
    "        this.onTop = true;\n",
    "    }\n",
    "}"
   ]
  },
  {
   "cell_type": "code",
   "execution_count": null,
   "id": "b12782ad",
   "metadata": {
    "vscode": {
     "languageId": "javascript"
    }
   },
   "outputs": [],
   "source": [
    "%%js\n",
    "\n",
    "this.collisionData = {\n",
    "    newX: thisRectLeftNew, // proportionally adjust left to center over other object\n",
    "    hit: (\n",
    "        thisLeft < otherRect.right &&\n",
    "        thisRight > otherRect.left &&\n",
    "        thisTop < otherRect.bottom &&\n",
    "        thisBottom > otherRect.top\n",
    "    ),\n",
    "    atFloor: (GameEnv.bottom <= this.y),\n",
    "    // The following code is what affects the gravity\n",
    "    touchPoints: {\n",
    "        this: {\n",
    "            id: this.canvas.id,\n",
    "            top: thisRect.bottom > otherRect.top,\n",
    "            bottom: (thisRect.bottom <= otherRect.top) && !(Math.abs(thisRect.bottom - otherRect.bottom) <= GameEnv.gravity),\n",
    "            left: thisCenterX > otherCenterX,\n",
    "            right: thisCenterX < otherCenterX,\n",
    "            onTopofOther: onTopofOther\n",
    "        },\n",
    "        other: {\n",
    "            id: other.canvas.id,\n",
    "            top: thisRect.bottom < otherRect.top,\n",
    "            bottom: (thisRect.bottom >= otherRect.top) && !(Math.abs(thisRect.bottom - otherRect.bottom) <= GameEnv.gravity),\n",
    "            left: thisCenterX < otherCenterX, \n",
    "            right: thisCenterX > otherCenterX,\n",
    "        },\n",
    "    },\n",
    "};"
   ]
  },
  {
   "cell_type": "markdown",
   "id": "723f6c35",
   "metadata": {},
   "source": [
    "<hr> "
   ]
  },
  {
   "cell_type": "markdown",
   "id": "73b543ae",
   "metadata": {},
   "source": [
    "# -- Hacks -- \n",
    "\n",
    "### 1) Make a NPC or a function that moves the player to a platformer game or another RPG level\n",
    "\n",
    "### 2) In your Platformer game add gravity to the player. \n",
    "\n"
=======
    "//vamos a la playa a mi me gusta bailar, el ritmo en la noche, sound of fiesta.\n"
>>>>>>> 2cfd7d84 (Random)
   ]
  },
  {
   "cell_type": "code",
   "execution_count": null,
   "id": "b352b04e",
   "metadata": {
    "vscode": {
     "languageId": "javascript"
    }
   },
   "outputs": [],
   "source": [
    "//Structure for Platformer (Input this code into a seperate HTML File)\n",
    "\n",
    "\n",
    "<!DOCTYPE html>\n",
    "<html lang=\"en\">\n",
    "<head>\n",
    "  <meta charset=\"UTF-8\">\n",
    "  <title>Simple Platformer</title>\n",
    "  <style>\n",
    "    canvas {\n",
    "      border: 2px solid black;\n",
    "      background: lightblue;\n",
    "      display: block;\n",
    "      margin: 0 auto;\n",
    "    }\n",
    "  </style>\n",
    "</head>\n",
    "<body>\n",
    "  <canvas id=\"gameCanvas\" width=\"800\" height=\"400\"></canvas>\n",
    "  <script src=\"/assets/js/platformerLesson/platformer.js\"></script> \n",
    "</body>\n",
    "</html>"
   ]
  },
  {
   "cell_type": "markdown",
   "id": "42836f17",
   "metadata": {},
   "source": [
    "## Add this JS file as well\n",
    "\n",
    "```js \n",
    "const canvas = document.getElementById(\"gameCanvas\");\n",
    "const ctx = canvas.getContext(\"2d\");\n",
    "\n",
    "// Game settings nico\n",
    "const gravity = 0.5;\n",
    "const friction = 0.8;\n",
    "\n",
    "// Player object\n",
    "const player = {\n",
    "  x: 100,\n",
    "  y: 0,\n",
    "  width: 30,\n",
    "  height: 50,\n",
    "  velocityX: 0,\n",
    "  velocityY: 0,\n",
    "  speed: 4,\n",
    "  jumpPower: -12,\n",
    "  onGround: false\n",
    "};\n",
    "\n",
    "// Platform data\n",
    "const platforms = [\n",
    "  { x: 0, y: 350, width: 800, height: 50 },\n",
    "  { x: 200, y: 280, width: 100, height: 10 },\n",
    "  { x: 400, y: 220, width: 150, height: 10 },\n",
    "  { x: 600, y: 150, width: 100, height: 10 }\n",
    "];\n",
    "\n",
    "// Key tracking\n",
    "const keys = {};\n",
    "\n",
    "document.addEventListener(\"keydown\", e => keys[e.code] = true);\n",
    "document.addEventListener(\"keyup\", e => keys[e.code] = false);\n",
    "\n",
    "// Game loop\n",
    "function update() {\n",
    "  // Horizontal movement\n",
    "  if (keys[\"ArrowRight\"] || keys[\"KeyD\"]) player.velocityX = player.speed;\n",
    "  else if (keys[\"ArrowLeft\"] || keys[\"KeyA\"]) player.velocityX = -player.speed;\n",
    "  else player.velocityX *= friction;\n",
    "\n",
    "  // Jumping\n",
    "  if ((keys[\"ArrowUp\"] || keys[\"KeyW\"] || keys[\"Space\"]) && player.onGround) {\n",
    "    player.velocityY = player.jumpPower;\n",
    "    player.onGround = false;\n",
    "  }\n",
    "\n",
    "  // Apply gravity nico\n",
    "  player.velocityY += gravity;\n",
    "\n",
    "  // Update player position\n",
    "  player.x += player.velocityX;\n",
    "  player.y += player.velocityY;\n",
    "\n",
    "  // Collision detection\n",
    "  player.onGround = false;\n",
    "  platforms.forEach(platform => {\n",
    "    if (\n",
    "      player.x < platform.x + platform.width &&\n",
    "      player.x + player.width > platform.x &&\n",
    "      player.y < platform.y + platform.height &&\n",
    "      player.y + player.height > platform.y\n",
    "    ) {\n",
    "      if (player.velocityY > 0) {\n",
    "        player.y = platform.y - player.height;\n",
    "        player.velocityY = 0;\n",
    "        player.onGround = true;\n",
    "      }\n",
    "    }\n",
    "  });\n",
    "\n",
    "  // Keep player inside canvas\n",
    "  if (player.x < 0) player.x = 0;\n",
    "  if (player.x + player.width > canvas.width) player.x = canvas.width - player.width;\n",
    "\n",
    "  draw();\n",
    "  requestAnimationFrame(update);\n",
    "}\n",
    "\n",
    "function draw() {\n",
    "  ctx.clearRect(0, 0, canvas.width, canvas.height);\n",
    "\n",
    "  // Draw player\n",
    "  ctx.fillStyle = \"red\";\n",
    "  ctx.fillRect(player.x, player.y, player.width, player.height);\n",
    "\n",
    "  \n",
    "}\n",
    "\n",
    "// Start the game\n",
    "update();\n",
    "```"
   ]
  }
 ],
 "metadata": {
  "language_info": {
   "name": "python"
  }
 },
 "nbformat": 4,
 "nbformat_minor": 5
}
