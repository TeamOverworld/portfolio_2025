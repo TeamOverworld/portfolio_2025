{
 "cells": [
  {
   "cell_type": "raw",
   "id": "40cb6ba3",
   "metadata": {
    "vscode": {
     "languageId": "raw"
    }
   },
   "source": [
    "---\n",
    "layout: post\n",
    "title: Player Animations and Gravity\n",
    "description: Lesson on player gravity, animations, and controls.\n",
    "categroies: [Overwold Lessons]\n",
    "permalink: /overworld/PlayerGravity1\n",
    "---"
   ]
  },
  {
   "cell_type": "markdown",
   "id": "e643fe0f",
   "metadata": {},
   "source": [
    "idk what to put hrererwerwrwwer Ich brauche hilfe. Shayan tiene no padres porque el es una perra. Shayan ist nicht sehr klug und wollt eltern."
   ]
  }
 ],
 "metadata": {
  "language_info": {
   "name": "python"
  }
 },
 "nbformat": 4,
 "nbformat_minor": 5
}
