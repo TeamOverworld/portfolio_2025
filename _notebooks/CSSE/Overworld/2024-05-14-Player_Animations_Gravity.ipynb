{
 "cells": [
  {
   "cell_type": "raw",
   "id": "40cb6ba3",
   "metadata": {
    "vscode": {
     "languageId": "raw"
    }
   },
   "source": [
    "---\n",
    "layout: post\n",
    "title: Player Animations and Gravity\n",
    "description: Lesson on player gravity, animations, and controls.\n",
    "categroies: [Overwold Lessons]\n",
    "permalink: /overworld/PlayerGravity1\n",
    "---"
   ]
  },
  {
   "cell_type": "markdown",
   "id": "79ae1b2c",
   "metadata": {},
   "source": [
    "## Gravity\n",
    "\n",
    "Gravity is one of the forces that acts upon the universe. So let's add it to our adventure game. Adding gravity will make it more realistic and more difficult since you no longer will be able to glide across the screen.\n",
    "\n",
    "in our game lvel, we blah blah blah blah blahd and uh idk but below is code pulled from our game level def."
   ]
  },
  {
   "cell_type": "code",
   "execution_count": null,
   "id": "909a17a6",
   "metadata": {
    "vscode": {
     "languageId": "javascript"
    }
   },
   "outputs": [],
   "source": [
    "%%js \n",
    "\n",
    "//vamos a la playa a mi me gusta bailar, el ritmo en la noche, sound of fiesta."
   ]
  },
  {
   "cell_type": "markdown",
   "id": "e643fe0f",
   "metadata": {},
   "source": [
    "idk what to put hrererwerwrwwer Ich brauche hilfe. Shayan tiene no padres porque el es una perra. Shayan ist nicht sehr klug und wollt Eltern haben denn er hat Eltern nie in ihn ganzes Leben.\n",
    "\n",
    "shayan 일도 안하고 맨날 nico랑 놀려고 하는데 사실은 nico도 shayan 싫어하는거지 ㅋㅋㅋㅋㅋㅋ"
   ]
  }
 ],
 "metadata": {
  "language_info": {
   "name": "python"
  }
 },
 "nbformat": 4,
 "nbformat_minor": 5
}
