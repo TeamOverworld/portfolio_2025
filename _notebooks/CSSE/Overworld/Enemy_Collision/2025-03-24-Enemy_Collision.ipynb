{
 "cells": [
  {
   "cell_type": "code",
   "execution_count": null,
   "metadata": {
    "vscode": {
     "languageId": "yaml"
    }
   },
   "outputs": [],
   "source": [
    "---\n",
    "layout: post\n",
    "categories: [Overworld Lessons]\n",
    "title: Overworld Level Profiles \n",
    "description:  Programmer Profiles \n",
    "type: issues \n",
    "courses: { csse: {week: 0} }\n",
    "comments: true\n",
    "permalink: /overworld/EnemyCollision1\n",
    "---"
   ]
  },
  {
   "cell_type": "markdown",
   "metadata": {},
   "source": []
  }
 ],
 "metadata": {
  "language_info": {
   "name": "python"
  }
 },
 "nbformat": 4,
 "nbformat_minor": 2
}
