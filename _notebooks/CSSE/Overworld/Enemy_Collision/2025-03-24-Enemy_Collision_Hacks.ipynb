{
 "cells": [
  {
   "cell_type": "code",
   "execution_count": null,
   "metadata": {
    "vscode": {
     "languageId": "yaml"
    }
   },
   "outputs": [],
   "source": [
    "---\n",
    "layout: post\n",
    "categories: [Overworld Lessons]\n",
    "title: Overworld Level Hacks\n",
    "description: Overworld Hacks\n",
    "type: issues \n",
    "courses: { csse: {week: 0} }\n",
    "comments: true\n",
    "permalink: /overworld/EnemyCollisionHacks\n",
    "---"
   ]
  },
  {
   "cell_type": "markdown",
   "metadata": {},
   "source": [
    "## Enemy Collision Hacks"
   ]
  },
  {
   "cell_type": "markdown",
   "metadata": {},
   "source": [
    "## Hack #1 - Make Enemy Bounce back on collision\n",
    "\n",
    "#### Instead of just reversing direction, make the enemy \"bounce\" back a little when it collides with something."
   ]
  },
  {
   "cell_type": "code",
   "execution_count": null,
   "metadata": {
    "vscode": {
     "languageId": "javascript"
    }
   },
   "outputs": [],
   "source": [
    "if (this.collisionData.touchPoints.other.id === \"player\") {\n",
    "    if (this.collisionData.touchPoints.other.______ && this.immune == 0) {  \n",
    "        this.speed = ______;  // Reverse speed\n",
    "        this.x += ______;  // Move enemy back slightly\n",
    "    }\n",
    "}\n"
   ]
  }
 ],
 "metadata": {
  "language_info": {
   "name": "python"
  }
 },
 "nbformat": 4,
 "nbformat_minor": 2
}
