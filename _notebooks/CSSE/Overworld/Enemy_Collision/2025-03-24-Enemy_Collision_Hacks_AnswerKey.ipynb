{
 "cells": [
  {
   "cell_type": "markdown",
   "metadata": {},
   "source": [
    "---\n",
    "layout: post\n",
    "categories: [Overworld Lessons]\n",
    "title: Overworld Level Hacks Answer Key\n",
    "description: Overworld Hacks answer key\n",
    "type: issues \n",
    "courses: { csse: {week: 0} }\n",
    "comments: true\n",
    "permalink: /overworld/EnemyCollisionHacksAnswers\n",
    "---"
   ]
  }
 ],
 "metadata": {
  "language_info": {
   "name": "python"
  }
 },
 "nbformat": 4,
 "nbformat_minor": 2
}
