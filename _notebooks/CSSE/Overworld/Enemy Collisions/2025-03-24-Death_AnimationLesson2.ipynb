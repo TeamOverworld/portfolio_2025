{
 "cells": [
  {
   "cell_type": "markdown",
   "metadata": {},
   "source": [
    "---\n",
    "comments: True\n",
    "layout: post\n",
    "title: Overworld death animations & post collision handling/dialogue between user and NPCs\n",
    "description: Overworld Death animations and collisions/dialogue\n",
    "author: Team Overworld (Led By Shayan)\n",
    "permalink: /Enemyproperties/Lesson2\n",
    "categories: [Overworld Lessons]\n",
    "---"
   ]
  }
 ],
 "metadata": {
  "language_info": {
   "name": "python"
  }
 },
 "nbformat": 4,
 "nbformat_minor": 2
}
