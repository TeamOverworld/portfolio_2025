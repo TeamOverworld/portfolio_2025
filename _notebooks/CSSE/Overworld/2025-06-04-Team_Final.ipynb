{
 "cells": [
  {
   "cell_type": "code",
   "execution_count": null,
   "id": "b4fd76a8",
   "metadata": {
    "vscode": {
     "languageId": "plaintext"
    }
   },
   "outputs": [],
   "source": [
    "---\n",
    "layout: post\n",
    "title: Team Final - Overworld\n",
    "description: Our end-of-the-year documentation of the features added into our version of Adventure Game.\n",
    "categories: [Overworld Lessons]\n",
    "permalink: /overworld/TeamFinal\n",
    "---"
   ]
  },
  {
   "cell_type": "markdown",
   "id": "665b5bd2",
   "metadata": {},
   "source": [
    "# Team Final - Overworld\n",
    "\n"
   ]
  },
  {
   "cell_type": "markdown",
   "id": "1cf91566",
   "metadata": {},
   "source": [
    "### Feature 1: Game-In-Game\n",
    "```js\n",
    "//NICO WHEN YOU FINISH,CAN YOU PUT IT HERE JUST THE CODE. THANkS\n",
    "```\n",
    "### Feautre 2: Enemy Collision with Restart \n",
    "```js\n",
    "//HOPE I KNOW YOUR BUSY BUT CAN YOU JUST ADD THE CODE HERE LIKE COPY AND PASTE. THANKS A LOT\n",
    "```\n",
    "### Feature 3: Enemy Movement of Creeper\n",
    "```js\n",
    "//SHAYAN PUT UR CODE HERE\n",
    "```\n",
    "### Feature 4: Goomba Movement\n",
    "```js\n",
    "//LETS GO NAMIRAAAAA\n",
    "```\n",
    "### Feature 5: Saturating Animation of Creeper\n",
    "```js\n",
    "//PAUL PUT YOUR CODE HERE\n",
    "```\n",
    "### Feature 6: Adding Sound and creeper explode animation\n",
    "```js \n",
    "//PUT THE CREEPER SOUND HERE\n",
    "```\n",
    "Enemy.js:\n",
    "```js\n",
    "explode(x,y) {\n",
    "        const shards = 20; // Number of shards\n",
    "        for (let i = 0; i < shards; i++) {\n",
    "            const shard = document.createElement('div');\n",
    "            shard.style.position = 'absolute';\n",
    "            shard.style.width = '5px';\n",
    "            shard.style.height = '5px';\n",
    "            shard.style.backgroundColor = 'red'; // color of the shards\n",
    "            shard.style.left =  `${x}px`;\n",
    "            shard.style.top = `${this.gameEnv.top+y}px`;\n",
    "            this.canvas.parentElement.appendChild(shard); // adds shard to the canvas\n",
    "\n",
    "            const angle = Math.random() * 2 * Math.PI;\n",
    "            const speed = Math.random() * 5 + 2;\n",
    "\n",
    "            const shardX = Math.cos(angle) * speed;\n",
    "            const shardY = Math.sin(angle) * speed;\n",
    "\n",
    "            shard.animate(\n",
    "                [\n",
    "                    { transform: 'translate(0, 0)', opacity: 1 },\n",
    "                    { transform: `translate(${shardX * 20}px, ${shardY * 20}px)`, opacity: 0 },\n",
    "                ],\n",
    "                {\n",
    "                    duration: 1000,\n",
    "                    easing: 'ease-out',\n",
    "                    fill: 'forwards',\n",
    "                }\n",
    "            );\n",
    "```\n",
    "\n",
    "Creeper.js:\n",
    "```js\n",
    "// Explode player object with animation\n",
    "        this.explode(player.position.x, player.position.y);\n",
    "        player.destroy();\n",
    "        this.playerDestroyed = true;\n",
    "```\n",
    "\n"
   ]
  }
 ],
 "metadata": {
  "language_info": {
   "name": "python"
  }
 },
 "nbformat": 4,
 "nbformat_minor": 5
}
