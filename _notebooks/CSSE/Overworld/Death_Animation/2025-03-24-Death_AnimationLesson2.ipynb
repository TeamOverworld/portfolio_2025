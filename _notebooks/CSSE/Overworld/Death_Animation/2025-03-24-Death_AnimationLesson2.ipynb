{
 "cells": [
  {
   "cell_type": "markdown",
   "metadata": {},
   "source": [
    "---\n",
    "comments: True\n",
    "layout: post\n",
    "title: Overworld death animations lesson 2\n",
    "description: Overworld Death animations and collisions/dialogue\n",
    "author: Team Overworld\n",
    "permalink: /Enemyproperties/Lesson2\n",
    "categories: [Overworld Lessons]\n",
    "---"
   ]
  }
 ],
 "metadata": {
  "language_info": {
   "name": "python"
  }
 },
 "nbformat": 4,
 "nbformat_minor": 2
}
