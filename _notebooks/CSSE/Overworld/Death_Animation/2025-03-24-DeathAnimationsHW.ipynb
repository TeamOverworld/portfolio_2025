{
 "cells": [
  {
   "cell_type": "markdown",
   "metadata": {},
   "source": [
    "---\n",
    "comments: True\n",
    "layout: post\n",
    "title: Overworld death animations Homework\n",
    "description: Overworld Death animations Homework\n",
    "author: Team Overworld \n",
    "permalink: /Enemyproperties/homework\n",
    "categories: [Overworld Lessons]\n",
    "---"
   ]
  }
 ],
 "metadata": {
  "language_info": {
   "name": "python"
  }
 },
 "nbformat": 4,
 "nbformat_minor": 2
}
