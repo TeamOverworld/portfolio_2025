{
 "cells": [
  {
   "cell_type": "markdown",
   "id": "165c5652",
   "metadata": {},
   "source": [
    "# Randomized Movement of Enemies\n",
    "\n",
    "Our feature we wanted to import from the platformer game is the randomized movement of characters. When we go to the platformer game, we are introduced to Goombas, these tiny little mushroom creatures you have to stomp on or they kill you on collision. If you pay close attention to the movement of the Goombas, there is a set space where the Goombas are allowed to move, but instead of them changing direction when they reach the boundary of that set walking space, they change direction in random intervals *inside* the walking space. \n",
    "\n",
    "This allows for a more natural and less rigid/robotic movement for our enemies. Instead of being able to predict when the enemy changes direction (helpful for more complicated levels with more strategizing needed; we don't want to overwhelm our players), we can use this randomized movement to add another layer of suspense into our game (helpful when our level is fairly simple at a base level and we need a little something to spice it up)."
   ]
  }
 ],
 "metadata": {
  "language_info": {
   "name": "python"
  }
 },
 "nbformat": 4,
 "nbformat_minor": 5
}
